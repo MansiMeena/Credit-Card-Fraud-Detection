{
 "cells": [
  {
   "cell_type": "markdown",
   "metadata": {
    "_cell_guid": "11d9df76-b958-4da3-bfde-f454ae168f12",
    "_uuid": "1b7686d71dd154eea3edcecdb36bbe291d51666f"
   },
   "source": [
    "# Credit Card Fraud Detection\n",
       ]
  },
  {
   "cell_type": "markdown",
   "metadata": {
    "_cell_guid": "11d9df76-b958-4da3-bfde-f454ae168f12",
    "_uuid": "1b7686d71dd154eea3edcecdb36bbe291d51666f"
   },
   "source": [
    "## Contents"
   ]
  },
  {
   "cell_type": "markdown",
   "metadata": {
    "_cell_guid": "11d9df76-b958-4da3-bfde-f454ae168f12",
    "_uuid": "1b7686d71dd154eea3edcecdb36bbe291d51666f"
   },
   "source": [
    "* [1. Introduction](#1)\n",
    "    * [1.1 References](#1.1)\n",
    "* [2. Getting Started](#2)\n",
    "* [3. Train/Test Split](#3)\n",
    "* [4. Exploratory Data Analysis](#4)\n",
    "    * [4.1 Time](#4.1)\n",
    "    * [4.2 Amount](#4.2)\n",
    "    * [4.3 Time vs. Amount](#4.3)\n",
    "    * [4.4 V1-V28](#4.4)\n",
    "* [5. Mutual Information between Fraud and the Predictors](#5)\n",
    "* [6. Modeling](#6)\n",
    "    * [6.1 Logistic Regression and Support Vector Classifier](#6.1)\n",
    "    * [6.2 Random Forest](#6.2)\n",
    "* [7. Test Set Evaluation of the Best Model](#7)\n",
    "* [8. Conclusion](#8)"
   ]
  },
  {
   "cell_type": "markdown",
   "metadata": {},
   "source": [
    "# 1. Introduction\n",
    "<a id='1'></a>"
   ]
  },
  {
   "cell_type": "markdown",
   "metadata": {},
   "source": [
    "In this project we analyze a dataset of credit card transactions made over a two-day period in September 2013 by European cardholders. The dataset contains 284,807 transactions, of which 492 (0.17%) are fraudulent.\n",
    "\n",
    "Each transaction has 30 features, all of which are numerical. The features `V1, V2, ..., V28` are the result of a PCA transformation. To protect confidentiality, background information on these features is not available. The `Time` feature contains the time elapsed since the first transaction, and the `Amount` feature contains the transaction amount. The response variable, `Class`, is 1 in the case of fraud, and 0 otherwise.\n",
    "\n",
    "Our goal in this project is to construct models to predict whether a credit card transaction is fraudulent. We'll attempt a supervised learning approach. We'll also create visualizations to help us understand the structure of the data and unearth any interesting patterns."
   ]
  },
  {
   "cell_type": "markdown",
   "metadata": {},
   "source": [
    "## 1.1 References\n",
    "<a id='1.1'></a>"
   ]
  },
  {
   "cell_type": "markdown",
   "metadata": {},
   "source": [
    "* [Kaggle Dataset](https://www.kaggle.com/mlg-ulb/creditcardfraud)\n",
    "* [Kaggle Notebook](https://www.kaggle.com/pileatedperch/linear-svc-random-forest-mcc-0-77-0-88) - A version of this notebook hosted on Kaggle\n",
    "* [GitHub Repository](https://github.com/jgcorliss/credit-card-fraud) - The GitHub repository for this project"
   ]
  },
  {
   "cell_type": "markdown",
   "metadata": {
    "_cell_guid": "637b0320-5b60-48c1-8a30-12877d9d3706",
    "_uuid": "3ac770b4ec327e649c8f6aaebe62e5d9deda3ce1"
   },
   "source": [
    "# 2. Getting Started\n",
    "<a id='2'></a>"
   ]
  },
  {
   "cell_type": "markdown",
   "metadata": {},
   "source": [
    "Import basic libraries:"
   ]
  },
  {
   "cell_type": "code",
   "execution_count": 1,
   "metadata": {
    "_cell_guid": "6d9ae327-80a0-477d-9dc7-bef5c7fa2ae4",
    "_uuid": "5df5d6d9eb66c3fe6943f1bed5d01d9096e0939e"
   },
   "outputs": [],
   "source": [
    "import numpy as np\n",
    "import scipy as sp\n",
    "import pandas as pd\n",
    "import matplotlib as mpl\n",
    "import matplotlib.pyplot as plt\n",
    "import seaborn as sns\n",
    "\n",
    "# Pandas options\n",
    "pd.set_option('display.max_colwidth', 1000, 'display.max_rows', None, 'display.max_columns', None)\n",
    "\n",
    "# Plotting options\n",
    "%matplotlib inline\n",
    "mpl.style.use('ggplot')\n",
    "sns.set(style='whitegrid')"
   ]
  },
  {
   "cell_type": "markdown",
   "metadata": {
    "_cell_guid": "c46a6889-76ed-4174-b01f-ee57c553a4a6",
    "_uuid": "ba7704d23e6bf26359fc570b250e4e3573a90b01"
   },
   "source": [
    "Read in the data into a pandas dataframe."
   ]
  },
  {
   "cell_type": "code",
   "execution_count": 2,
   "metadata": {
    "_cell_guid": "b2eaac2a-dd66-4487-a7cc-ff8a6f9d895b",
    "_uuid": "1633367750b89e28917f9e740fe55269c0f41daf"
   },
   "outputs": [],
   "source": [
    "transactions = pd.read_csv('creditcard.csv')"
   ]
  },
  {
   "cell_type": "markdown",
   "metadata": {
    "_cell_guid": "3b0d2746-1bd2-4121-a70c-14f34aff322b",
    "_uuid": "ba7ed08e89eca5a23f447ce2b6afcaf555751fe7"
   },
   "source": [
    "Check basic metadata."
   ]
  },
  {
   "cell_type": "code",
   "execution_count": 3,
   "metadata": {},
   "outputs": [
    {
     "data": {
      "text/plain": [
       "(284807, 31)"
      ]
     },
     "execution_count": 3,
     "metadata": {},
     "output_type": "execute_result"
    }
   ],
   "source": [
    "transactions.shape"
   ]
  },
  {
   "cell_type": "code",
   "execution_count": 4,
   "metadata": {
    "_cell_guid": "4f1f3529-274f-464b-8693-c5696021bf5b",
    "_uuid": "16fc775a28983a0591370de08bd0941572f675c4",
    "scrolled": true
   },
   "outputs": [
    {
     "name": "stdout",
     "output_type": "stream",
     "text": [
      "<class 'pandas.core.frame.DataFrame'>\n",
      "RangeIndex: 284807 entries, 0 to 284806\n",
      "Data columns (total 31 columns):\n",
      "Time      284807 non-null float64\n",
      "V1        284807 non-null float64\n",
      "V2        284807 non-null float64\n",
      "V3        284807 non-null float64\n",
      "V4        284807 non-null float64\n",
      "V5        284807 non-null float64\n",
      "V6        284807 non-null float64\n",
      "V7        284807 non-null float64\n",
      "V8        284807 non-null float64\n",
      "V9        284807 non-null float64\n",
      "V10       284807 non-null float64\n",
      "V11       284807 non-null float64\n",
      "V12       284807 non-null float64\n",
      "V13       284807 non-null float64\n",
      "V14       284807 non-null float64\n",
      "V15       284807 non-null float64\n",
      "V16       284807 non-null float64\n",
      "V17       284807 non-null float64\n",
      "V18       284807 non-null float64\n",
      "V19       284807 non-null float64\n",
      "V20       284807 non-null float64\n",
      "V21       284807 non-null float64\n",
      "V22       284807 non-null float64\n",
      "V23       284807 non-null float64\n",
      "V24       284807 non-null float64\n",
      "V25       284807 non-null float64\n",
      "V26       284807 non-null float64\n",
      "V27       284807 non-null float64\n",
      "V28       284807 non-null float64\n",
      "Amount    284807 non-null float64\n",
      "Class     284807 non-null int64\n",
      "dtypes: float64(30), int64(1)\n",
      "memory usage: 67.4 MB\n"
     ]
    }
   ],
   "source": [
    "transactions.info()"
   ]
  },
  {
   "cell_type": "markdown",
   "metadata": {},
   "source": [
    "Are there any variables with missing data?"
   ]
  },
  {
   "cell_type": "code",
   "execution_count": 5,
   "metadata": {},
   "outputs": [
    {
     "data": {
      "text/plain": [
       "False"
      ]
     },
     "execution_count": 5,
     "metadata": {},
     "output_type": "execute_result"
    }
   ],
   "source": [
    "transactions.isnull().any().any()"
   ]
  },
  {
   "cell_type": "markdown",
   "metadata": {},
   "source": [
    "No! Let's view five randomly chosen transactions."
   ]
  },
  {
   "cell_type": "code",
   "execution_count": 6,
   "metadata": {
    "_cell_guid": "bc604ca1-88c0-4283-af5d-620fbdb2dff7",
    "_uuid": "7c96bb853ac6ed993aab097b658fac0e75bc61ed"
   },
   "outputs": [
    {
     "data": {
      "text/html": [
       "<div>\n",
       "<style scoped>\n",
       "    .dataframe tbody tr th:only-of-type {\n",
       "        vertical-align: middle;\n",
       "    }\n",
       "\n",
       "    .dataframe tbody tr th {\n",
       "        vertical-align: top;\n",
       "    }\n",
       "\n",
       "    .dataframe thead th {\n",
       "        text-align: right;\n",
       "    }\n",
       "</style>\n",
       "<table border=\"1\" class=\"dataframe\">\n",
       "  <thead>\n",
       "    <tr style=\"text-align: right;\">\n",
       "      <th></th>\n",
       "      <th>Time</th>\n",
       "      <th>V1</th>\n",
       "      <th>V2</th>\n",
       "      <th>V3</th>\n",
       "      <th>V4</th>\n",
       "      <th>V5</th>\n",
       "      <th>V6</th>\n",
       "      <th>V7</th>\n",
       "      <th>V8</th>\n",
       "      <th>V9</th>\n",
       "      <th>V10</th>\n",
       "      <th>V11</th>\n",
       "      <th>V12</th>\n",
       "      <th>V13</th>\n",
       "      <th>V14</th>\n",
       "      <th>V15</th>\n",
       "      <th>V16</th>\n",
       "      <th>V17</th>\n",
       "      <th>V18</th>\n",
       "      <th>V19</th>\n",
       "      <th>V20</th>\n",
       "      <th>V21</th>\n",
       "      <th>V22</th>\n",
       "      <th>V23</th>\n",
       "      <th>V24</th>\n",
       "      <th>V25</th>\n",
       "      <th>V26</th>\n",
       "      <th>V27</th>\n",
       "      <th>V28</th>\n",
       "      <th>Amount</th>\n",
       "      <th>Class</th>\n",
       "    </tr>\n",
       "  </thead>\n",
       "  <tbody>\n",
       "    <tr>\n",
       "      <th>44333</th>\n",
       "      <td>41902.0</td>\n",
       "      <td>1.426789</td>\n",
       "      <td>-0.289653</td>\n",
       "      <td>-0.293921</td>\n",
       "      <td>-0.854916</td>\n",
       "      <td>-0.347593</td>\n",
       "      <td>-0.875710</td>\n",
       "      <td>-0.079200</td>\n",
       "      <td>-0.290741</td>\n",
       "      <td>-1.514316</td>\n",
       "      <td>0.831167</td>\n",
       "      <td>1.317719</td>\n",
       "      <td>0.401731</td>\n",
       "      <td>0.913439</td>\n",
       "      <td>0.128705</td>\n",
       "      <td>-0.344279</td>\n",
       "      <td>0.979761</td>\n",
       "      <td>-0.008560</td>\n",
       "      <td>-1.100156</td>\n",
       "      <td>1.041998</td>\n",
       "      <td>0.141685</td>\n",
       "      <td>0.230861</td>\n",
       "      <td>0.603798</td>\n",
       "      <td>-0.228516</td>\n",
       "      <td>0.068474</td>\n",
       "      <td>0.833699</td>\n",
       "      <td>-0.084813</td>\n",
       "      <td>-0.027933</td>\n",
       "      <td>-0.009602</td>\n",
       "      <td>15.00</td>\n",
       "      <td>0</td>\n",
       "    </tr>\n",
       "    <tr>\n",
       "      <th>88220</th>\n",
       "      <td>62045.0</td>\n",
       "      <td>-1.547243</td>\n",
       "      <td>0.545354</td>\n",
       "      <td>0.859257</td>\n",
       "      <td>0.123138</td>\n",
       "      <td>0.717430</td>\n",
       "      <td>0.576993</td>\n",
       "      <td>-0.095498</td>\n",
       "      <td>0.894938</td>\n",
       "      <td>-0.505093</td>\n",
       "      <td>-0.792845</td>\n",
       "      <td>0.921223</td>\n",
       "      <td>0.613913</td>\n",
       "      <td>0.173313</td>\n",
       "      <td>-0.043077</td>\n",
       "      <td>1.961134</td>\n",
       "      <td>-0.843320</td>\n",
       "      <td>1.468752</td>\n",
       "      <td>-2.147582</td>\n",
       "      <td>-1.711721</td>\n",
       "      <td>-0.246343</td>\n",
       "      <td>-0.108475</td>\n",
       "      <td>-0.082428</td>\n",
       "      <td>0.776363</td>\n",
       "      <td>-0.697407</td>\n",
       "      <td>-0.360761</td>\n",
       "      <td>0.194114</td>\n",
       "      <td>0.144210</td>\n",
       "      <td>-0.045002</td>\n",
       "      <td>10.02</td>\n",
       "      <td>0</td>\n",
       "    </tr>\n",
       "    <tr>\n",
       "      <th>163529</th>\n",
       "      <td>116009.0</td>\n",
       "      <td>1.938140</td>\n",
       "      <td>1.187440</td>\n",
       "      <td>-1.899462</td>\n",
       "      <td>4.025949</td>\n",
       "      <td>1.288608</td>\n",
       "      <td>-0.414337</td>\n",
       "      <td>0.497139</td>\n",
       "      <td>-0.165422</td>\n",
       "      <td>-1.104224</td>\n",
       "      <td>0.293627</td>\n",
       "      <td>-0.882977</td>\n",
       "      <td>-0.659773</td>\n",
       "      <td>0.357673</td>\n",
       "      <td>-2.622642</td>\n",
       "      <td>-0.598708</td>\n",
       "      <td>1.847255</td>\n",
       "      <td>1.142095</td>\n",
       "      <td>0.566562</td>\n",
       "      <td>-1.487492</td>\n",
       "      <td>-0.155628</td>\n",
       "      <td>-0.461225</td>\n",
       "      <td>-1.287327</td>\n",
       "      <td>0.216202</td>\n",
       "      <td>-0.962343</td>\n",
       "      <td>-0.152333</td>\n",
       "      <td>-0.302764</td>\n",
       "      <td>-0.002987</td>\n",
       "      <td>0.013085</td>\n",
       "      <td>12.71</td>\n",
       "      <td>0</td>\n",
       "    </tr>\n",
       "    <tr>\n",
       "      <th>4935</th>\n",
       "      <td>4485.0</td>\n",
       "      <td>-3.331309</td>\n",
       "      <td>2.636961</td>\n",
       "      <td>0.864133</td>\n",
       "      <td>-2.595668</td>\n",
       "      <td>-0.376151</td>\n",
       "      <td>-1.220749</td>\n",
       "      <td>1.080725</td>\n",
       "      <td>-0.934314</td>\n",
       "      <td>3.395773</td>\n",
       "      <td>4.713090</td>\n",
       "      <td>0.553346</td>\n",
       "      <td>-3.661955</td>\n",
       "      <td>0.595038</td>\n",
       "      <td>-0.284463</td>\n",
       "      <td>-0.669438</td>\n",
       "      <td>-1.323991</td>\n",
       "      <td>-0.521506</td>\n",
       "      <td>1.010299</td>\n",
       "      <td>-3.097186</td>\n",
       "      <td>1.325893</td>\n",
       "      <td>-1.106122</td>\n",
       "      <td>-1.125332</td>\n",
       "      <td>-0.022219</td>\n",
       "      <td>0.194881</td>\n",
       "      <td>0.313982</td>\n",
       "      <td>-0.024641</td>\n",
       "      <td>0.680543</td>\n",
       "      <td>0.076802</td>\n",
       "      <td>2.00</td>\n",
       "      <td>0</td>\n",
       "    </tr>\n",
       "    <tr>\n",
       "      <th>79955</th>\n",
       "      <td>58265.0</td>\n",
       "      <td>1.542993</td>\n",
       "      <td>-0.857281</td>\n",
       "      <td>-0.467534</td>\n",
       "      <td>-1.726643</td>\n",
       "      <td>-0.511416</td>\n",
       "      <td>-0.301089</td>\n",
       "      <td>-0.515731</td>\n",
       "      <td>-0.213958</td>\n",
       "      <td>-2.492096</td>\n",
       "      <td>1.591873</td>\n",
       "      <td>0.413440</td>\n",
       "      <td>-0.083626</td>\n",
       "      <td>1.340713</td>\n",
       "      <td>-0.077523</td>\n",
       "      <td>-0.405846</td>\n",
       "      <td>-0.156605</td>\n",
       "      <td>-0.067694</td>\n",
       "      <td>0.215438</td>\n",
       "      <td>0.749032</td>\n",
       "      <td>-0.194340</td>\n",
       "      <td>-0.507932</td>\n",
       "      <td>-1.163368</td>\n",
       "      <td>-0.033556</td>\n",
       "      <td>-0.875691</td>\n",
       "      <td>0.485193</td>\n",
       "      <td>-0.399461</td>\n",
       "      <td>-0.000999</td>\n",
       "      <td>-0.000867</td>\n",
       "      <td>36.47</td>\n",
       "      <td>0</td>\n",
       "    </tr>\n",
       "  </tbody>\n",
       "</table>\n",
       "</div>"
      ],
      "text/plain": [
       "            Time        V1        V2        V3        V4        V5        V6  \\\n",
       "44333    41902.0  1.426789 -0.289653 -0.293921 -0.854916 -0.347593 -0.875710   \n",
       "88220    62045.0 -1.547243  0.545354  0.859257  0.123138  0.717430  0.576993   \n",
       "163529  116009.0  1.938140  1.187440 -1.899462  4.025949  1.288608 -0.414337   \n",
       "4935      4485.0 -3.331309  2.636961  0.864133 -2.595668 -0.376151 -1.220749   \n",
       "79955    58265.0  1.542993 -0.857281 -0.467534 -1.726643 -0.511416 -0.301089   \n",
       "\n",
       "              V7        V8        V9       V10       V11       V12       V13  \\\n",
       "44333  -0.079200 -0.290741 -1.514316  0.831167  1.317719  0.401731  0.913439   \n",
       "88220  -0.095498  0.894938 -0.505093 -0.792845  0.921223  0.613913  0.173313   \n",
       "163529  0.497139 -0.165422 -1.104224  0.293627 -0.882977 -0.659773  0.357673   \n",
       "4935    1.080725 -0.934314  3.395773  4.713090  0.553346 -3.661955  0.595038   \n",
       "79955  -0.515731 -0.213958 -2.492096  1.591873  0.413440 -0.083626  1.340713   \n",
       "\n",
       "             V14       V15       V16       V17       V18       V19       V20  \\\n",
       "44333   0.128705 -0.344279  0.979761 -0.008560 -1.100156  1.041998  0.141685   \n",
       "88220  -0.043077  1.961134 -0.843320  1.468752 -2.147582 -1.711721 -0.246343   \n",
       "163529 -2.622642 -0.598708  1.847255  1.142095  0.566562 -1.487492 -0.155628   \n",
       "4935   -0.284463 -0.669438 -1.323991 -0.521506  1.010299 -3.097186  1.325893   \n",
       "79955  -0.077523 -0.405846 -0.156605 -0.067694  0.215438  0.749032 -0.194340   \n",
       "\n",
       "             V21       V22       V23       V24       V25       V26       V27  \\\n",
       "44333   0.230861  0.603798 -0.228516  0.068474  0.833699 -0.084813 -0.027933   \n",
       "88220  -0.108475 -0.082428  0.776363 -0.697407 -0.360761  0.194114  0.144210   \n",
       "163529 -0.461225 -1.287327  0.216202 -0.962343 -0.152333 -0.302764 -0.002987   \n",
       "4935   -1.106122 -1.125332 -0.022219  0.194881  0.313982 -0.024641  0.680543   \n",
       "79955  -0.507932 -1.163368 -0.033556 -0.875691  0.485193 -0.399461 -0.000999   \n",
       "\n",
       "             V28  Amount  Class  \n",
       "44333  -0.009602   15.00      0  \n",
       "88220  -0.045002   10.02      0  \n",
       "163529  0.013085   12.71      0  \n",
       "4935    0.076802    2.00      0  \n",
       "79955  -0.000867   36.47      0  "
      ]
     },
     "execution_count": 6,
     "metadata": {},
     "output_type": "execute_result"
    }
   ],
   "source": [
    "transactions.sample(5)"
   ]
  },
  {
   "cell_type": "markdown",
   "metadata": {
    "_cell_guid": "8f7ec588-76e0-4148-9fb1-4feeb3dada12",
    "_uuid": "0023ca6d961466f0d748eb7f0c30c7da45371bbf"
   },
   "source": [
    "How balanced are the classes, i.e. how common are fraudulent transactions?"
   ]
  },
  {
   "cell_type": "code",
   "execution_count": 7,
   "metadata": {},
   "outputs": [
    {
     "data": {
      "text/plain": [
       "0    284315\n",
       "1       492\n",
       "Name: Class, dtype: int64"
      ]
     },
     "execution_count": 7,
     "metadata": {},
     "output_type": "execute_result"
    }
   ],
   "source": [
    "transactions['Class'].value_counts()"
   ]
  },
  {
   "cell_type": "code",
   "execution_count": 8,
   "metadata": {},
   "outputs": [
    {
     "data": {
      "text/plain": [
       "0    0.998273\n",
       "1    0.001727\n",
       "Name: Class, dtype: float64"
      ]
     },
     "execution_count": 8,
     "metadata": {},
     "output_type": "execute_result"
    }
   ],
   "source": [
    "transactions['Class'].value_counts(normalize=True)"
   ]
  },
  {
   "cell_type": "markdown",
   "metadata": {
    "_cell_guid": "494ab719-1616-484f-aa45-bbfe65d8551b",
    "_uuid": "02969b991d83731381b47bc52b283e2e154967a4"
   },
   "source": [
    "Only 0.17% (492 out of 284,807) transactions are fraudulent."
   ]
  },
  {
   "cell_type": "markdown",
   "metadata": {},
   "source": [
    "# 3. Train/Test Split\n",
    "<a id='3'></a>"
   ]
  },
  {
   "cell_type": "markdown",
   "metadata": {},
   "source": [
    "Before we begin preprocessing, we split off a test data set. First split the data into features and response variable:"
   ]
  },
  {
   "cell_type": "code",
   "execution_count": 9,
   "metadata": {
    "_cell_guid": "bef72ced-38e9-4ac6-9e5a-808b1d78884f",
    "_uuid": "7372fd82bc5da83aa8bb5315fde1d85688e8d6b0"
   },
   "outputs": [],
   "source": [
    "X = transactions.drop(labels='Class', axis=1) # Features\n",
    "y = transactions.loc[:,'Class']               # Response\n",
    "del transactions                              # Delete the original data"
   ]
  },
  {
   "cell_type": "markdown",
   "metadata": {
    "_cell_guid": "74100588-3a51-4fcb-a02a-3c92a6c6b32f",
    "_uuid": "fa5b1986d2ae5b4e94392336477009352c33193c"
   },
   "source": [
    "We'll use a test size of 20%. We also stratify the split on the response variable, which is very important to do because there are so few fraudulent transactions."
   ]
  },
  {
   "cell_type": "code",
   "execution_count": 10,
   "metadata": {
    "_cell_guid": "1e6fa3fe-6f44-4293-a66e-043e2cc78d02",
    "_uuid": "40fea6c259d8cea82ac0c09b544ac05313270ff1"
   },
   "outputs": [],
   "source": [
    "from sklearn.model_selection import train_test_split"
   ]
  },
  {
   "cell_type": "code",
   "execution_count": 11,
   "metadata": {
    "_cell_guid": "ef4278b6-9789-4fdb-befc-412bfc427b4f",
    "_uuid": "6bcc0773be9d933ba0a7f63d90214fd33637d655"
   },
   "outputs": [],
   "source": [
    "X_train, X_test, y_train, y_test = train_test_split(X, y, test_size=0.2, random_state=1, stratify=y)\n",
    "del X, y"
   ]
  },
  {
   "cell_type": "code",
   "execution_count": 12,
   "metadata": {},
   "outputs": [
    {
     "data": {
      "text/plain": [
       "(227845, 30)"
      ]
     },
     "execution_count": 12,
     "metadata": {},
     "output_type": "execute_result"
    }
   ],
   "source": [
    "X_train.shape"
   ]
  },
  {
   "cell_type": "code",
   "execution_count": 13,
   "metadata": {},
   "outputs": [
    {
     "data": {
      "text/plain": [
       "(56962, 30)"
      ]
     },
     "execution_count": 13,
     "metadata": {},
     "output_type": "execute_result"
    }
   ],
   "source": [
    "X_test.shape"
   ]
  },
  {
   "cell_type": "code",
   "execution_count": 14,
   "metadata": {},
   "outputs": [
    {
     "name": "stderr",
     "output_type": "stream",
     "text": [
      "C:\\Users\\Joe\\Anaconda3\\lib\\site-packages\\pandas\\core\\generic.py:4384: FutureWarning: Attribute 'is_copy' is deprecated and will be removed in a future version.\n",
      "  object.__getattribute__(self, name)\n",
      "C:\\Users\\Joe\\Anaconda3\\lib\\site-packages\\pandas\\core\\generic.py:4385: FutureWarning: Attribute 'is_copy' is deprecated and will be removed in a future version.\n",
      "  return object.__setattr__(self, name, value)\n"
     ]
    }
   ],
   "source": [
    "# Prevent view warnings\n",
    "X_train.is_copy = False\n",
    "X_test.is_copy = False"
   ]
  },
  {
   "cell_type": "markdown",
   "metadata": {},
   "source": [
    "# 4. Exploratory Data Analysis\n",
    "<a id='4'></a>"
   ]
  },
  {
   "cell_type": "markdown",
   "metadata": {},
   "source": [
    "We conduct EDA only on the training set, and leave the test set unknown."
   ]
  },
  {
   "cell_type": "markdown",
   "metadata": {},
   "source": [
    "## 4.1 Time\n",
    "<a id='4.1'></a>"
   ]
  },
  {
   "cell_type": "markdown",
   "metadata": {},
   "source": [
    "Few descriptive statistics for the `Time` variable:"
   ]
  },
  {
   "cell_type": "code",
   "execution_count": 15,
   "metadata": {},
   "outputs": [
    {
     "data": {
      "text/plain": [
       "count    227845.000000\n",
       "mean      94707.617670\n",
       "std       47523.204111\n",
       "min           0.000000\n",
       "25%       54086.000000\n",
       "50%       84609.000000\n",
       "75%      139261.000000\n",
       "max      172792.000000\n",
       "Name: Time, dtype: float64"
      ]
     },
     "execution_count": 15,
     "metadata": {},
     "output_type": "execute_result"
    }
   ],
   "source": [
    "X_train['Time'].describe()"
   ]
  },
  {
   "cell_type": "markdown",
   "metadata": {},
   "source": [
    "Let's convert the time from seconds to hours to ease the interpretation."
   ]
  },
  {
   "cell_type": "code",
   "execution_count": 16,
   "metadata": {},
   "outputs": [],
   "source": [
    "X_train.loc[:,'Time'] = X_train.Time / 3600\n",
    "X_test.loc[:,'Time'] = X_test.Time / 3600"
   ]
  },
  {
   "cell_type": "markdown",
   "metadata": {},
   "source": [
    "What is the time of the last transaction, in days?"
   ]
  },
  {
   "cell_type": "code",
   "execution_count": 17,
   "metadata": {},
   "outputs": [
    {
     "data": {
      "text/plain": [
       "1.9999074074074075"
      ]
     },
     "execution_count": 17,
     "metadata": {},
     "output_type": "execute_result"
    }
   ],
   "source": [
    "X_train['Time'].max() / 24"
   ]
  },
  {
   "cell_type": "markdown",
   "metadata": {},
   "source": [
    "So the transactions indeed occur over a two-day period. Next let's plot a histogram of transaction times, with one bin per hour:"
   ]
  },
  {
   "cell_type": "code",
   "execution_count": 18,
   "metadata": {},
   "outputs": [
    {
     "name": "stderr",
     "output_type": "stream",
     "text": [
      "C:\\Users\\Joe\\Anaconda3\\lib\\site-packages\\matplotlib\\axes\\_axes.py:6462: UserWarning: The 'normed' kwarg is deprecated, and has been replaced by the 'density' kwarg.\n",
      "  warnings.warn(\"The 'normed' kwarg is deprecated, and has been \"\n"
     ]
    },
    {
     "data": {
      "text/plain": [
       "Text(0.5,1,'Transaction Times')"
      ]
     },
     "execution_count": 18,
     "metadata": {},
     "output_type": "execute_result"
    },
    {
     "data": {
      "image/png": "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\n",
      "text/plain": [
       "<Figure size 960x320 with 1 Axes>"
      ]
     },
     "metadata": {},
     "output_type": "display_data"
    }
   ],
   "source": [
    "plt.figure(figsize=(12,4), dpi=80)\n",
    "sns.distplot(X_train['Time'], bins=48, kde=False)\n",
    "plt.xlim([0,48])\n",
    "plt.xticks(np.arange(0,54,6))\n",
    "plt.xlabel('Time After First Transaction (hr)')\n",
    "plt.ylabel('Count')\n",
    "plt.title('Transaction Times')"
   ]
  },
  {
   "cell_type": "markdown",
   "metadata": {},
   "source": [
    "It looks like there are two lulls in credit card transactions during nighttime on each day."
   ]
  },
  {
   "cell_type": "markdown",
   "metadata": {},
   "source": [
    "## 4.2 Amount\n",
    "<a id='4.2'></a>"
   ]
  },
  {
   "cell_type": "markdown",
   "metadata": {},
   "source": [
    "Summary statistics:"
   ]
  },
  {
   "cell_type": "code",
   "execution_count": 19,
   "metadata": {},
   "outputs": [
    {
     "data": {
      "text/plain": [
       "count    227845.000000\n",
       "mean         88.709296\n",
       "std         250.026305\n",
       "min           0.000000\n",
       "25%           5.550000\n",
       "50%          22.000000\n",
       "75%          77.890000\n",
       "max       25691.160000\n",
       "Name: Amount, dtype: float64"
      ]
     },
     "execution_count": 19,
     "metadata": {},
     "output_type": "execute_result"
    }
   ],
   "source": [
    "X_train['Amount'].describe()"
   ]
  },
  {
   "cell_type": "markdown",
   "metadata": {},
   "source": [
    "Comparing the different quantiles, it looks like the amounts are very right-skewed. To verify this, plot a histogram of the transaction amounts:"
   ]
  },
  {
   "cell_type": "code",
   "execution_count": 20,
   "metadata": {},
   "outputs": [
    {
     "name": "stderr",
     "output_type": "stream",
     "text": [
      "C:\\Users\\Joe\\Anaconda3\\lib\\site-packages\\matplotlib\\axes\\_axes.py:6462: UserWarning: The 'normed' kwarg is deprecated, and has been replaced by the 'density' kwarg.\n",
      "  warnings.warn(\"The 'normed' kwarg is deprecated, and has been \"\n"
     ]
    },
    {
     "data": {
      "text/plain": [
       "Text(0.5,1,'Transaction Amounts')"
      ]
     },
     "execution_count": 20,
     "metadata": {},
     "output_type": "execute_result"
    },
    {
     "data": {
      "image/png": "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\n",
      "text/plain": [
       "<Figure size 960x320 with 1 Axes>"
      ]
     },
     "metadata": {},
     "output_type": "display_data"
    }
   ],
   "source": [
    "plt.figure(figsize=(12,4), dpi=80)\n",
    "sns.distplot(X_train['Amount'], bins=300, kde=False)\n",
    "plt.ylabel('Count')\n",
    "plt.title('Transaction Amounts')"
   ]
  },
  {
   "cell_type": "markdown",
   "metadata": {},
   "source": [
    "The histogram is hard to read due to some outliers we can't see. A boxplot will show the outliers:"
   ]
  },
  {
   "cell_type": "code",
   "execution_count": 21,
   "metadata": {},
   "outputs": [
    {
     "data": {
      "text/plain": [
       "Text(0.5,1,'Transaction Amounts')"
      ]
     },
     "execution_count": 21,
     "metadata": {},
     "output_type": "execute_result"
    },
    {
     "data": {
      "image/png": "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\n",
      "text/plain": [
       "<Figure size 960x320 with 1 Axes>"
      ]
     },
     "metadata": {},
     "output_type": "display_data"
    }
   ],
   "source": [
    "plt.figure(figsize=(12,4), dpi=80)\n",
    "sns.boxplot(X_train['Amount'])\n",
    "plt.title('Transaction Amounts')"
   ]
  },
  {
   "cell_type": "markdown",
   "metadata": {},
   "source": [
    "We can see there are no outliers on the left and many outliers on the right. So the amounts certainly seem right-skewed. We can calculate the skewness to be sure:"
   ]
  },
  {
   "cell_type": "code",
   "execution_count": 22,
   "metadata": {},
   "outputs": [
    {
     "data": {
      "text/plain": [
       "16.910303546516744"
      ]
     },
     "execution_count": 22,
     "metadata": {},
     "output_type": "execute_result"
    }
   ],
   "source": [
    "X_train['Amount'].skew()"
   ]
  },
  {
   "cell_type": "markdown",
   "metadata": {},
   "source": [
    "That's a strong right skew. Let's use a power transform to bring the transaction amounts closer to a normal distribution. We'll use the [Box-Cox transform in SciPy](https://docs.scipy.org/doc/scipy/reference/generated/scipy.stats.boxcox.html), but some of the amounts are zero (min = 0 above), so we need to shift the amounts first to make them positive. We'll shift by a very small amount, just $10^{-9}$."
   ]
  },
  {
   "cell_type": "code",
   "execution_count": 23,
   "metadata": {},
   "outputs": [],
   "source": [
    "X_train.loc[:,'Amount'] = X_train['Amount'] + 1e-9 # Shift all amounts by 1e-9"
   ]
  },
  {
   "cell_type": "markdown",
   "metadata": {},
   "source": [
    "Perform the Box-Cox transform:"
   ]
  },
  {
   "cell_type": "code",
   "execution_count": 24,
   "metadata": {},
   "outputs": [],
   "source": [
    "X_train.loc[:,'Amount'], maxlog, (min_ci, max_ci) = sp.stats.boxcox(X_train['Amount'], alpha=0.01)"
   ]
  },
  {
   "cell_type": "markdown",
   "metadata": {},
   "source": [
    "The maximum likelihood estimate of $\\lambda$ in the Box-Cox transform:"
   ]
  },
  {
   "cell_type": "code",
   "execution_count": 25,
   "metadata": {},
   "outputs": [
    {
     "data": {
      "text/plain": [
       "0.13436569191158662"
      ]
     },
     "execution_count": 25,
     "metadata": {},
     "output_type": "execute_result"
    }
   ],
   "source": [
    "maxlog"
   ]
  },
  {
   "cell_type": "markdown",
   "metadata": {},
   "source": [
    "The 99% confidence interval for $\\lambda$:"
   ]
  },
  {
   "cell_type": "code",
   "execution_count": 26,
   "metadata": {},
   "outputs": [
    {
     "data": {
      "text/plain": [
       "(0.13291390124729957, 0.1358266545085391)"
      ]
     },
     "execution_count": 26,
     "metadata": {},
     "output_type": "execute_result"
    }
   ],
   "source": [
    "(min_ci, max_ci)"
   ]
  },
  {
   "cell_type": "markdown",
   "metadata": {},
   "source": [
    "Plot the newly transformed amounts:"
   ]
  },
  {
   "cell_type": "code",
   "execution_count": 27,
   "metadata": {},
   "outputs": [
    {
     "name": "stderr",
     "output_type": "stream",
     "text": [
      "C:\\Users\\Joe\\Anaconda3\\lib\\site-packages\\matplotlib\\axes\\_axes.py:6462: UserWarning: The 'normed' kwarg is deprecated, and has been replaced by the 'density' kwarg.\n",
      "  warnings.warn(\"The 'normed' kwarg is deprecated, and has been \"\n"
     ]
    },
    {
     "data": {
      "text/plain": [
       "Text(0.5,1,'Transaction Amounts (Box-Cox Transformed)')"
      ]
     },
     "execution_count": 27,
     "metadata": {},
     "output_type": "execute_result"
    },
    {
     "data": {
      "image/png": "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\n",
      "text/plain": [
       "<Figure size 960x320 with 1 Axes>"
      ]
     },
     "metadata": {},
     "output_type": "display_data"
    }
   ],
   "source": [
    "plt.figure(figsize=(12,4), dpi=80)\n",
    "sns.distplot(X_train['Amount'], kde=False)\n",
    "plt.xlabel('Transformed Amount')\n",
    "plt.ylabel('Count')\n",
    "plt.title('Transaction Amounts (Box-Cox Transformed)')"
   ]
  },
  {
   "cell_type": "markdown",
   "metadata": {},
   "source": [
    "Much better. The distribution appears to be bimodal, suggesting a divide between \"small\" and \"large\" purchases. Now let's check the descriptive stats of the transformed amounts:"
   ]
  },
  {
   "cell_type": "code",
   "execution_count": 28,
   "metadata": {},
   "outputs": [
    {
     "data": {
      "text/plain": [
       "count    227845.000000\n",
       "mean          3.985515\n",
       "std           2.972505\n",
       "min          -6.982733\n",
       "25%           1.927181\n",
       "50%           3.831861\n",
       "75%           5.919328\n",
       "max          21.680566\n",
       "Name: Amount, dtype: float64"
      ]
     },
     "execution_count": 28,
     "metadata": {},
     "output_type": "execute_result"
    }
   ],
   "source": [
    "X_train['Amount'].describe()"
   ]
  },
  {
   "cell_type": "markdown",
   "metadata": {},
   "source": [
    "What's the skewness of the transformed amounts? (Zero skewness would be ideal.)"
   ]
  },
  {
   "cell_type": "code",
   "execution_count": 29,
   "metadata": {},
   "outputs": [
    {
     "data": {
      "text/plain": [
       "0.11421481857917302"
      ]
     },
     "execution_count": 29,
     "metadata": {},
     "output_type": "execute_result"
    }
   ],
   "source": [
    "X_train['Amount'].skew()"
   ]
  },
  {
   "cell_type": "markdown",
   "metadata": {},
   "source": [
    "So our power transform removed most of the skewness in the `Amount` variable. Now we need to compute the Box-Cox transform on the test data amounts as well, using the $\\lambda$ value estimated on the training data."
   ]
  },
  {
   "cell_type": "code",
   "execution_count": 30,
   "metadata": {},
   "outputs": [],
   "source": [
    "X_test.loc[:,'Amount'] = X_test['Amount'] + 1e-9 # Shift all amounts by 1e-9"
   ]
  },
  {
   "cell_type": "code",
   "execution_count": 31,
   "metadata": {},
   "outputs": [],
   "source": [
    "X_test.loc[:,'Amount'] = sp.stats.boxcox(X_test['Amount'], lmbda=maxlog)"
   ]
  },
  {
   "cell_type": "markdown",
   "metadata": {},
   "source": [
    "## 4.3 Time vs. Amount\n",
    "<a id='4.3'></a>"
   ]
  },
  {
   "cell_type": "markdown",
   "metadata": {},
   "source": [
    "Is there a relationship between the transaction amounts and the time of day? Let's explore this question with a joint histogram using hexagonal bins. For this plot, we convert each transaction time to the hour of the day on which it occurred."
   ]
  },
  {
   "cell_type": "code",
   "execution_count": 32,
   "metadata": {},
   "outputs": [
    {
     "name": "stderr",
     "output_type": "stream",
     "text": [
      "C:\\Users\\Joe\\Anaconda3\\lib\\site-packages\\matplotlib\\axes\\_axes.py:6462: UserWarning: The 'normed' kwarg is deprecated, and has been replaced by the 'density' kwarg.\n",
      "  warnings.warn(\"The 'normed' kwarg is deprecated, and has been \"\n",
      "C:\\Users\\Joe\\Anaconda3\\lib\\site-packages\\matplotlib\\axes\\_axes.py:6462: UserWarning: The 'normed' kwarg is deprecated, and has been replaced by the 'density' kwarg.\n",
      "  warnings.warn(\"The 'normed' kwarg is deprecated, and has been \"\n"
     ]
    },
    {
     "data": {
      "text/plain": [
       "<seaborn.axisgrid.JointGrid at 0x1f73c3e4128>"
      ]
     },
     "execution_count": 32,
     "metadata": {},
     "output_type": "execute_result"
    },
    {
     "data": {
      "image/png": "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\n",
      "text/plain": [
       "<Figure size 864x864 with 3 Axes>"
      ]
     },
     "metadata": {},
     "output_type": "display_data"
    }
   ],
   "source": [
    "sns.jointplot(X_train['Time'].apply(lambda x: x % 24), X_train['Amount'], kind='hex', stat_func=None, size=12, xlim=(0,24), ylim=(-7.5,14)).set_axis_labels('Time of Day (hr)','Transformed Amount')"
   ]
  },
  {
   "cell_type": "markdown",
   "metadata": {},
   "source": [
    "The transaction amounts appear to be similarly distributed throughout the daytime hours. However, in the earliest hours of the day, around 5-7 AM, amounts around 2.5 are the most common (recall this is a Box-Cox transformed value). Perhaps everyone's buying their morning coffee?"
   ]
  },
  {
   "cell_type": "markdown",
   "metadata": {},
   "source": [
    "## 4.4 V1-V28\n",
    "<a id='4.4'></a>"
   ]
  },
  {
   "cell_type": "markdown",
   "metadata": {},
   "source": [
    "Let's compare the descriptive stats of the PCA variables `V1-V28`."
   ]
  },
  {
   "cell_type": "code",
   "execution_count": 33,
   "metadata": {},
   "outputs": [],
   "source": [
    "pca_vars = ['V%i' % k for k in range(1,29)]"
   ]
  },
  {
   "cell_type": "markdown",
   "metadata": {},
   "source": [
    "Full table of descriptive stats:"
   ]
  },
  {
   "cell_type": "code",
   "execution_count": 34,
   "metadata": {},
   "outputs": [
    {
     "data": {
      "text/html": [
       "<div>\n",
       "<style scoped>\n",
       "    .dataframe tbody tr th:only-of-type {\n",
       "        vertical-align: middle;\n",
       "    }\n",
       "\n",
       "    .dataframe tbody tr th {\n",
       "        vertical-align: top;\n",
       "    }\n",
       "\n",
       "    .dataframe thead th {\n",
       "        text-align: right;\n",
       "    }\n",
       "</style>\n",
       "<table border=\"1\" class=\"dataframe\">\n",
       "  <thead>\n",
       "    <tr style=\"text-align: right;\">\n",
       "      <th></th>\n",
       "      <th>V1</th>\n",
       "      <th>V2</th>\n",
       "      <th>V3</th>\n",
       "      <th>V4</th>\n",
       "      <th>V5</th>\n",
       "      <th>V6</th>\n",
       "      <th>V7</th>\n",
       "      <th>V8</th>\n",
       "      <th>V9</th>\n",
       "      <th>V10</th>\n",
       "      <th>V11</th>\n",
       "      <th>V12</th>\n",
       "      <th>V13</th>\n",
       "      <th>V14</th>\n",
       "      <th>V15</th>\n",
       "      <th>V16</th>\n",
       "      <th>V17</th>\n",
       "      <th>V18</th>\n",
       "      <th>V19</th>\n",
       "      <th>V20</th>\n",
       "      <th>V21</th>\n",
       "      <th>V22</th>\n",
       "      <th>V23</th>\n",
       "      <th>V24</th>\n",
       "      <th>V25</th>\n",
       "      <th>V26</th>\n",
       "      <th>V27</th>\n",
       "      <th>V28</th>\n",
       "    </tr>\n",
       "  </thead>\n",
       "  <tbody>\n",
       "    <tr>\n",
       "      <th>count</th>\n",
       "      <td>227845.000000</td>\n",
       "      <td>227845.000000</td>\n",
       "      <td>227845.000000</td>\n",
       "      <td>227845.000000</td>\n",
       "      <td>227845.000000</td>\n",
       "      <td>227845.000000</td>\n",
       "      <td>227845.000000</td>\n",
       "      <td>227845.000000</td>\n",
       "      <td>227845.000000</td>\n",
       "      <td>227845.000000</td>\n",
       "      <td>227845.000000</td>\n",
       "      <td>227845.000000</td>\n",
       "      <td>227845.000000</td>\n",
       "      <td>227845.000000</td>\n",
       "      <td>227845.000000</td>\n",
       "      <td>227845.000000</td>\n",
       "      <td>227845.000000</td>\n",
       "      <td>227845.000000</td>\n",
       "      <td>227845.000000</td>\n",
       "      <td>227845.000000</td>\n",
       "      <td>227845.000000</td>\n",
       "      <td>227845.000000</td>\n",
       "      <td>227845.000000</td>\n",
       "      <td>227845.000000</td>\n",
       "      <td>227845.000000</td>\n",
       "      <td>227845.000000</td>\n",
       "      <td>227845.000000</td>\n",
       "      <td>227845.000000</td>\n",
       "    </tr>\n",
       "    <tr>\n",
       "      <th>mean</th>\n",
       "      <td>-0.000713</td>\n",
       "      <td>-0.001034</td>\n",
       "      <td>0.002557</td>\n",
       "      <td>0.003839</td>\n",
       "      <td>-0.002857</td>\n",
       "      <td>0.002085</td>\n",
       "      <td>0.000022</td>\n",
       "      <td>0.000093</td>\n",
       "      <td>0.000243</td>\n",
       "      <td>-0.000363</td>\n",
       "      <td>0.000651</td>\n",
       "      <td>-0.000834</td>\n",
       "      <td>-0.000976</td>\n",
       "      <td>0.002291</td>\n",
       "      <td>-0.000595</td>\n",
       "      <td>-0.000499</td>\n",
       "      <td>0.000587</td>\n",
       "      <td>0.001448</td>\n",
       "      <td>-0.000146</td>\n",
       "      <td>-0.000796</td>\n",
       "      <td>0.000023</td>\n",
       "      <td>0.000897</td>\n",
       "      <td>0.000765</td>\n",
       "      <td>-0.000380</td>\n",
       "      <td>0.000136</td>\n",
       "      <td>-0.000301</td>\n",
       "      <td>-0.000046</td>\n",
       "      <td>-0.000027</td>\n",
       "    </tr>\n",
       "    <tr>\n",
       "      <th>std</th>\n",
       "      <td>1.952399</td>\n",
       "      <td>1.636689</td>\n",
       "      <td>1.514288</td>\n",
       "      <td>1.417086</td>\n",
       "      <td>1.383532</td>\n",
       "      <td>1.333769</td>\n",
       "      <td>1.240239</td>\n",
       "      <td>1.200348</td>\n",
       "      <td>1.096453</td>\n",
       "      <td>1.082580</td>\n",
       "      <td>1.020932</td>\n",
       "      <td>1.000266</td>\n",
       "      <td>0.996678</td>\n",
       "      <td>0.957485</td>\n",
       "      <td>0.916946</td>\n",
       "      <td>0.876978</td>\n",
       "      <td>0.846748</td>\n",
       "      <td>0.838169</td>\n",
       "      <td>0.815140</td>\n",
       "      <td>0.767956</td>\n",
       "      <td>0.733325</td>\n",
       "      <td>0.725353</td>\n",
       "      <td>0.616772</td>\n",
       "      <td>0.605741</td>\n",
       "      <td>0.522184</td>\n",
       "      <td>0.482187</td>\n",
       "      <td>0.405182</td>\n",
       "      <td>0.331048</td>\n",
       "    </tr>\n",
       "    <tr>\n",
       "      <th>min</th>\n",
       "      <td>-56.407510</td>\n",
       "      <td>-72.715728</td>\n",
       "      <td>-48.325589</td>\n",
       "      <td>-5.683171</td>\n",
       "      <td>-113.743307</td>\n",
       "      <td>-26.160506</td>\n",
       "      <td>-43.557242</td>\n",
       "      <td>-73.216718</td>\n",
       "      <td>-13.434066</td>\n",
       "      <td>-24.588262</td>\n",
       "      <td>-4.797473</td>\n",
       "      <td>-18.431131</td>\n",
       "      <td>-5.791881</td>\n",
       "      <td>-19.214325</td>\n",
       "      <td>-4.498945</td>\n",
       "      <td>-14.129855</td>\n",
       "      <td>-25.162799</td>\n",
       "      <td>-9.335193</td>\n",
       "      <td>-7.213527</td>\n",
       "      <td>-54.497720</td>\n",
       "      <td>-34.830382</td>\n",
       "      <td>-10.933144</td>\n",
       "      <td>-36.666000</td>\n",
       "      <td>-2.836627</td>\n",
       "      <td>-8.696627</td>\n",
       "      <td>-2.534330</td>\n",
       "      <td>-22.565679</td>\n",
       "      <td>-15.430084</td>\n",
       "    </tr>\n",
       "    <tr>\n",
       "      <th>25%</th>\n",
       "      <td>-0.922830</td>\n",
       "      <td>-0.599928</td>\n",
       "      <td>-0.887861</td>\n",
       "      <td>-0.844052</td>\n",
       "      <td>-0.693702</td>\n",
       "      <td>-0.766195</td>\n",
       "      <td>-0.555377</td>\n",
       "      <td>-0.208302</td>\n",
       "      <td>-0.642006</td>\n",
       "      <td>-0.535079</td>\n",
       "      <td>-0.761255</td>\n",
       "      <td>-0.406597</td>\n",
       "      <td>-0.650225</td>\n",
       "      <td>-0.423563</td>\n",
       "      <td>-0.584357</td>\n",
       "      <td>-0.469513</td>\n",
       "      <td>-0.484153</td>\n",
       "      <td>-0.497660</td>\n",
       "      <td>-0.456946</td>\n",
       "      <td>-0.212129</td>\n",
       "      <td>-0.227952</td>\n",
       "      <td>-0.541079</td>\n",
       "      <td>-0.162242</td>\n",
       "      <td>-0.354208</td>\n",
       "      <td>-0.317488</td>\n",
       "      <td>-0.327576</td>\n",
       "      <td>-0.070767</td>\n",
       "      <td>-0.053013</td>\n",
       "    </tr>\n",
       "    <tr>\n",
       "      <th>50%</th>\n",
       "      <td>0.016743</td>\n",
       "      <td>0.064370</td>\n",
       "      <td>0.180865</td>\n",
       "      <td>-0.016750</td>\n",
       "      <td>-0.055388</td>\n",
       "      <td>-0.271706</td>\n",
       "      <td>0.039185</td>\n",
       "      <td>0.022594</td>\n",
       "      <td>-0.051224</td>\n",
       "      <td>-0.091877</td>\n",
       "      <td>-0.032213</td>\n",
       "      <td>0.141227</td>\n",
       "      <td>-0.014920</td>\n",
       "      <td>0.051939</td>\n",
       "      <td>0.047181</td>\n",
       "      <td>0.066080</td>\n",
       "      <td>-0.065260</td>\n",
       "      <td>-0.001867</td>\n",
       "      <td>0.004371</td>\n",
       "      <td>-0.062809</td>\n",
       "      <td>-0.029095</td>\n",
       "      <td>0.007661</td>\n",
       "      <td>-0.011184</td>\n",
       "      <td>0.040977</td>\n",
       "      <td>0.017081</td>\n",
       "      <td>-0.052599</td>\n",
       "      <td>0.001373</td>\n",
       "      <td>0.011255</td>\n",
       "    </tr>\n",
       "    <tr>\n",
       "      <th>75%</th>\n",
       "      <td>1.315147</td>\n",
       "      <td>0.801738</td>\n",
       "      <td>1.027592</td>\n",
       "      <td>0.746907</td>\n",
       "      <td>0.611056</td>\n",
       "      <td>0.401204</td>\n",
       "      <td>0.569307</td>\n",
       "      <td>0.328079</td>\n",
       "      <td>0.596563</td>\n",
       "      <td>0.455577</td>\n",
       "      <td>0.740921</td>\n",
       "      <td>0.617925</td>\n",
       "      <td>0.663521</td>\n",
       "      <td>0.495181</td>\n",
       "      <td>0.649788</td>\n",
       "      <td>0.522836</td>\n",
       "      <td>0.400067</td>\n",
       "      <td>0.501554</td>\n",
       "      <td>0.459695</td>\n",
       "      <td>0.132873</td>\n",
       "      <td>0.186678</td>\n",
       "      <td>0.529342</td>\n",
       "      <td>0.147825</td>\n",
       "      <td>0.438432</td>\n",
       "      <td>0.351400</td>\n",
       "      <td>0.240554</td>\n",
       "      <td>0.091028</td>\n",
       "      <td>0.078341</td>\n",
       "    </tr>\n",
       "    <tr>\n",
       "      <th>max</th>\n",
       "      <td>2.451888</td>\n",
       "      <td>22.057729</td>\n",
       "      <td>9.382558</td>\n",
       "      <td>16.715537</td>\n",
       "      <td>34.801666</td>\n",
       "      <td>73.301626</td>\n",
       "      <td>120.589494</td>\n",
       "      <td>20.007208</td>\n",
       "      <td>15.594995</td>\n",
       "      <td>23.745136</td>\n",
       "      <td>12.018913</td>\n",
       "      <td>7.848392</td>\n",
       "      <td>7.126883</td>\n",
       "      <td>10.526766</td>\n",
       "      <td>8.877742</td>\n",
       "      <td>17.315112</td>\n",
       "      <td>9.207059</td>\n",
       "      <td>5.041069</td>\n",
       "      <td>5.591971</td>\n",
       "      <td>39.420904</td>\n",
       "      <td>27.202839</td>\n",
       "      <td>10.503090</td>\n",
       "      <td>22.083545</td>\n",
       "      <td>4.584549</td>\n",
       "      <td>7.519589</td>\n",
       "      <td>3.517346</td>\n",
       "      <td>31.612198</td>\n",
       "      <td>33.847808</td>\n",
       "    </tr>\n",
       "  </tbody>\n",
       "</table>\n",
       "</div>"
      ],
      "text/plain": [
       "                  V1             V2             V3             V4  \\\n",
       "count  227845.000000  227845.000000  227845.000000  227845.000000   \n",
       "mean       -0.000713      -0.001034       0.002557       0.003839   \n",
       "std         1.952399       1.636689       1.514288       1.417086   \n",
       "min       -56.407510     -72.715728     -48.325589      -5.683171   \n",
       "25%        -0.922830      -0.599928      -0.887861      -0.844052   \n",
       "50%         0.016743       0.064370       0.180865      -0.016750   \n",
       "75%         1.315147       0.801738       1.027592       0.746907   \n",
       "max         2.451888      22.057729       9.382558      16.715537   \n",
       "\n",
       "                  V5             V6             V7             V8  \\\n",
       "count  227845.000000  227845.000000  227845.000000  227845.000000   \n",
       "mean       -0.002857       0.002085       0.000022       0.000093   \n",
       "std         1.383532       1.333769       1.240239       1.200348   \n",
       "min      -113.743307     -26.160506     -43.557242     -73.216718   \n",
       "25%        -0.693702      -0.766195      -0.555377      -0.208302   \n",
       "50%        -0.055388      -0.271706       0.039185       0.022594   \n",
       "75%         0.611056       0.401204       0.569307       0.328079   \n",
       "max        34.801666      73.301626     120.589494      20.007208   \n",
       "\n",
       "                  V9            V10            V11            V12  \\\n",
       "count  227845.000000  227845.000000  227845.000000  227845.000000   \n",
       "mean        0.000243      -0.000363       0.000651      -0.000834   \n",
       "std         1.096453       1.082580       1.020932       1.000266   \n",
       "min       -13.434066     -24.588262      -4.797473     -18.431131   \n",
       "25%        -0.642006      -0.535079      -0.761255      -0.406597   \n",
       "50%        -0.051224      -0.091877      -0.032213       0.141227   \n",
       "75%         0.596563       0.455577       0.740921       0.617925   \n",
       "max        15.594995      23.745136      12.018913       7.848392   \n",
       "\n",
       "                 V13            V14            V15            V16  \\\n",
       "count  227845.000000  227845.000000  227845.000000  227845.000000   \n",
       "mean       -0.000976       0.002291      -0.000595      -0.000499   \n",
       "std         0.996678       0.957485       0.916946       0.876978   \n",
       "min        -5.791881     -19.214325      -4.498945     -14.129855   \n",
       "25%        -0.650225      -0.423563      -0.584357      -0.469513   \n",
       "50%        -0.014920       0.051939       0.047181       0.066080   \n",
       "75%         0.663521       0.495181       0.649788       0.522836   \n",
       "max         7.126883      10.526766       8.877742      17.315112   \n",
       "\n",
       "                 V17            V18            V19            V20  \\\n",
       "count  227845.000000  227845.000000  227845.000000  227845.000000   \n",
       "mean        0.000587       0.001448      -0.000146      -0.000796   \n",
       "std         0.846748       0.838169       0.815140       0.767956   \n",
       "min       -25.162799      -9.335193      -7.213527     -54.497720   \n",
       "25%        -0.484153      -0.497660      -0.456946      -0.212129   \n",
       "50%        -0.065260      -0.001867       0.004371      -0.062809   \n",
       "75%         0.400067       0.501554       0.459695       0.132873   \n",
       "max         9.207059       5.041069       5.591971      39.420904   \n",
       "\n",
       "                 V21            V22            V23            V24  \\\n",
       "count  227845.000000  227845.000000  227845.000000  227845.000000   \n",
       "mean        0.000023       0.000897       0.000765      -0.000380   \n",
       "std         0.733325       0.725353       0.616772       0.605741   \n",
       "min       -34.830382     -10.933144     -36.666000      -2.836627   \n",
       "25%        -0.227952      -0.541079      -0.162242      -0.354208   \n",
       "50%        -0.029095       0.007661      -0.011184       0.040977   \n",
       "75%         0.186678       0.529342       0.147825       0.438432   \n",
       "max        27.202839      10.503090      22.083545       4.584549   \n",
       "\n",
       "                 V25            V26            V27            V28  \n",
       "count  227845.000000  227845.000000  227845.000000  227845.000000  \n",
       "mean        0.000136      -0.000301      -0.000046      -0.000027  \n",
       "std         0.522184       0.482187       0.405182       0.331048  \n",
       "min        -8.696627      -2.534330     -22.565679     -15.430084  \n",
       "25%        -0.317488      -0.327576      -0.070767      -0.053013  \n",
       "50%         0.017081      -0.052599       0.001373       0.011255  \n",
       "75%         0.351400       0.240554       0.091028       0.078341  \n",
       "max         7.519589       3.517346      31.612198      33.847808  "
      ]
     },
     "execution_count": 34,
     "metadata": {},
     "output_type": "execute_result"
    }
   ],
   "source": [
    "X_train[pca_vars].describe()"
   ]
  },
  {
   "cell_type": "markdown",
   "metadata": {},
   "source": [
    "It's tedious to interpret this table, so let's make some visualizations. We'll start by plotting the means:"
   ]
  },
  {
   "cell_type": "code",
   "execution_count": 35,
   "metadata": {},
   "outputs": [
    {
     "data": {
      "text/plain": [
       "Text(0.5,1,'V1-V28 Means')"
      ]
     },
     "execution_count": 35,
     "metadata": {},
     "output_type": "execute_result"
    },
    {
     "data": {
      "image/png": "iVBORw0KGgoAAAANSUhEUgAAAzIAAAEzCAYAAADq9jahAAAABHNCSVQICAgIfAhkiAAAAAlwSFlzAAAMTQAADE0B0s6tTgAAADl0RVh0U29mdHdhcmUAbWF0cGxvdGxpYiB2ZXJzaW9uIDIuMi4yLCBodHRwOi8vbWF0cGxvdGxpYi5vcmcvhp/UCwAAIABJREFUeJzt3XmcZFV58PFfTw8oINs4IAwKKgmP20jDCC6IK8QElVcWAzIuY1hE4qtR3BAkoCDmRTEoAVlExAECAYwbEAU1DqCBTBicQHwwBgjDEBkGWcIiMz39/nFuS1H2dFd1d1X17fl9P5/5TNe5p+5zTi236rnnnFt9Q0NDSJIkSVKdzOh1AyRJkiSpXSYykiRJkmrHREaSJElS7ZjISJIkSaodExlJkiRJtWMiI0mSJKl2TGQkSZIk1c7MXjdAkjS1RcTVwB2ZecgI274L3JWZRzSU7Qscn5lz17K/7YD/Al6bmdc2bXsWsAzYDVgCfB44ANgIWAx8KDP/var7Z8D/A7YD7gaOy8yL1xJzCFgNzMnMFU3bbgReBmyRmfeN8XBIkqYIR2QkSWM5A/jziNiwsTAitgH+DDi9uv20iPgUcBHQt7adZeadwBXAe0fY/F5gSWbeAPw1JaHZBdgCWARcGRHrRcRs4FJKYrMJ8EHggoh43ij9eBD486Y+vACIUe4jSZqiHJGRJI3l28DDwNuBbzSU/wVw7fAICfBN4JmUUZJ9xtjnGcDFEfHBzHwEICL6gIOBE6s6GwF/nZnLq+1fpCQ3zwM2BjYEZlT3WwM8AawaJebFwHzg7xrK3gVcBiwYLoiIZwOnAq8BHgHOAj6fmWsiYrNq2+7AVsBdwMcz89sR8Vzg34FjgI8CGwDfAw7JzFUR8VbKCNM21f1Oycyvj/E4SZLWwhEZSdKoMnM1cA4NIygRMYOSyJzeUPXDmflG4Nct7PYq4D5KcjTs9cAs4O+ruH+VmVc1bH8bZVTlduAmSoL1Q0ry8gPg/Zm5bJSYlwE7Do/aVAnQQZQEbLhf/cB3KVPVtgVeBxwIDE+dO4mSRM0FNqnaelpDjI2AnYAdKMnO3sD+1X6/CXwgMzcDPgKcFhHPHKW9kqRRmMhIklpxNrBbRDy/ur0n8DTgW8MVMvPuVneWmWuAM3nq9LJDgXMz8/Hm+hGxB2Uk5YjMXAWsD9wDvIUy8vFW4MsR8cpRwj5ESVIOqm6/lrIe578a6ryMkoQcmZmPZeYdwOeAw6vtx1ESuN9REp2HKSMsjf4mMx/NzFuBG4A/zsxBShL23oh4LfATYOPMXDlKeyVJozCRkSSNqRrp+B5PJh6HAmdVScWoImJ+RPxvw7/dq01fA14eEX9UjUz8H+CrI9z/LykJ0/sy88Kq+C+B2Zn5/cxclZlXAJcA7xujOQt5MpF5F3B+0/btgKcDKyLigYh4gJJwDScrcygjQfcCFwC78ofrge5t+HsVT37W7kmZ0n0ZsBL4QkSsP0Z7JUlr4RoZSVKrzgDOiYivAHtRFtiPKTMvoHzpby5fERGXA++hTDP7SWb+flpaNX3tDMpoy56Z+fOGu29LGZVpNGZSRZnSdm5EvAJ4M2WK1+YN2+8GVmbmlg3t2BzYtLp5MXAe8Ppqzcyf8NTpcSOKiI2AbTPzoGpK2yspydkvqv1JktpkIiNJatUPKVOqvgR8f3gR/gSdQRmZeQA4vmnbicCbgF1HWPvyPeB71aWev0VZj/JOyjqatcrM1RFxMWXNz08y88EqURl2A3BvRHyGMqVsQ0ry8ihlxGgT4PEqiXkuZaoZLYyszAS+HRGHARcCy4EhysiMJGkcnFomSWpJZg5RplkdxFMX+U9kn4soVxvbArhyuDwink4ZLZkD/LJpatpOmflDylqVz1DWnpwBHJaZP2oh7DeBF/OH08qopsq9GXgp5cpivwJW8ORVzQ4G3h8RD1MSu0uBx4CXjNHPB4H9gI9T1upcD5yemd9tob2SpBH0DQ0N9boNkiRJktQWR2QkSZIk1Y6JjCRJkqTaMZGRJEmSVDsmMpIkSZJqx8svA4sXL+6jXBnn4V63RZIkSRIAGwPL582bN+LVyUxkijlA828USJIkSeqtZ1N+rPgPmMgUDwPMnTuX/v7+XrdFkiRJWqcNDg6ydOlSGGXGVM8TmYg4CDgGWA84NTNPa9o+QPkF5k2ARcDhmbkqIrYFFgJbArcB8zPz4Yb7PRv4BbBzZt7RSlv6+/tNZCRJkqQa6Oli/4jYBjgJ2B0YAA6NiLlN1RYCH8rMHarbh1f/nw6cmZkvAG4EjmvY7wxK8rN+51ovSZIkqVd6fdWyPYBrMnNlZj4CXArsP7wxIrYDNszM66qi84D9I2I94DXAJY3lDfv9OHA1cF9HWy9JkiSpJ3o9tWwOsLzh9j3ArmNs3xqYDTyUmauayomIecAbgD8FPtBOYwYHB9upLkmSJKkDWvle3utEZgbQeDm1PmBNC9ubywHWRMSGlClnb8/MNRHRVmOqBUWSJEmSprheJzLLKOtjhm3FU0dgllGNtDRtvxfYNCJmZubqqs7yal/PAr5TJTFzgCsiYv/MvHWsxnjVMkmSJKn3Gq5atla9TmSuBo6PiC2BR4C3A4cMb8zMOyPi8YjYPTMXAQuAK6urli0CDqRcDGC4/J+A5w7fPyLuAPbyqmWSJEnS9NLTxf6ZeTfwKeDHwE3Awsy8ISKuiIiXVdXmA6dExC+BDYAvV+VHAIdExK3AbpRLOEuSJElaB/QNDTUvNVn3LF68eBPgwYGBAUdkJEmSpB4bHBxkyZIlAJvOmzfvoZHq9HpqmaahWbOOnvR93n//iZO+T0mSJNVXr39HRpIkSZLaZiIjSZIkqXZMZCRJkiTVjomMJEmSpNoxkZEkSZJUOyYykiRJkmrHREaSJElS7ZjISJIkSaodExlJkiRJtWMiI0mSJKl2TGQkSZIk1Y6JjCRJkqTaMZGRJEmSVDsmMpIkSZJqx0RGkiRJUu2YyEiSJEmqHRMZSZIkSbVjIiNJkiSpdkxkJEmSJNWOiYwkSZKk2jGRkSRJklQ7JjKSJEmSasdERpIkSVLtzOx1AwAi4iDgGGA94NTMPK1p+wBwDrAJsAg4PDNXRcS2wEJgS+A2YH5mPhwRLwXOAjYEVgILMvPOrnVIkiRJUkf1fEQmIrYBTgJ2BwaAQyNiblO1hcCHMnOH6vbh1f+nA2dm5guAG4HjqvJzgGMz86XAP1T7lyRJkjRN9DyRAfYArsnMlZn5CHApsP/wxojYDtgwM6+ris4D9o+I9YDXAJc0lld/vyozfxARM4BnA7/teC8kSZIkdc1UmFo2B1jecPseYNcxtm8NzAYeysxVTeVk5uqImA38gjK97HWtNGRwcHAczVc3+NxIkiStO1r57jcVEpkZwFDD7T5gTQvbm8tpvF9m3gfMiYg/Bb4TEc/LzFEfkaVLl7bfenXFkiVLet0ESZIkTSFTIZFZRlkfM2wrnjoCs4xqpKVp+73AphExMzNXV3WWR0Qf8PbMvAQgM6+KiA2AzYH7RmvI3Llz6e/vn2h/xOWTvseBgYFJ36ckSZKmpsHBwTEHGaZCInM1cHxEbAk8ArwdOGR4Y2beGRGPR8TumbkIWABcWV21bBFwIOViAMPlQxFxbEQ8mpnfi4g9gRXVCM2o+vv7TWSmKJ8XSZIkNer5Yv/MvBv4FPBj4CZgYWbeEBFXRMTLqmrzgVMi4pfABsCXq/IjgEMi4lZgN8olnAEOAj4VEUuqfe/Xnd5IkiRJ6oa+oaHmZSbrnsWLF28CPDgwMOCZ/0kwa9bRk77P++8/cdL3KUmSpKlpcHBweI30pvPmzXtopDo9H5GRJEmSpHaZyEiSJEmqHRMZSZIkSbVjIiNJkiSpdkxkJEmSJNWOiYwkSZKk2jGRkSRJklQ7JjKSJEmSasdERpIkSVLtzOx1A9Qds2Yd3ZH93n//iR3ZryRJkjQaR2QkSZIk1Y6JjCRJkqTaMZGRJEmSVDsmMpIkSZJqx0RGkiRJUu2YyEiSJEmqHRMZSZIkSbVjIiNJkiSpdvxBTElS13XiR3r9gV5JWrc4IiNJkiSpdkxkJEmSJNWOiYwkSZKk2jGRkSRJklQ7JjKSJEmSaqfnVy2LiIOAY4D1gFMz87Sm7QPAOcAmwCLg8MxcFRHbAguBLYHbgPmZ+XBEPK+qPxsYBD6amT/qWockSZIkdVxPE5mI2AY4CdgZeBy4PiL+OTOXNlRbCLwvM6+LiK8BhwNfAU4HzszMCyLi08BxwJHAacA3MvP8iHgh8JOImJOZg93rmaYbLxUrSZI0tfR6RGYP4JrMXAkQEZcC+wNLq9vbARtm5nVV/fOAEyLiq8BrgH0ayq+lJDILgW9X5bcBTwOeATw4VmMGB8112tWtx2w6PjfTsU9SL/mekqTpo5Vjeq8TmTnA8obb9wC7jrF9a8q0sYcyc1VTOZl5UUP9jwE3Z+aYSQzA0qVLx66kp1iyZMm0itNN07FPUi/5npKkdUuvE5kZwFDD7T5gTQvbm8tpuh8R8QngUOC1rTZm7ty59Pf3t1q9Zi7vyF4HBga6EmvkON00Hfsk9ZLvKUnS2g0ODo45yNDrRGYZsHvD7a146gjMMqqRlqbt9wKbRsTMzFxd1VkOEBF9wN8BrwJenZn3tNqY/v7+aZzIdEa3Hq/p+LxMxz5JveR7SpLWLb2+/PLVwB4RsWVEbAS8HbhqeGNm3gk8HhHDyc4C4MpqStki4MDG8urv44C5wO7tJDGSJEmS6qOniUxm3g18CvgxcBOwMDNviIgrIuJlVbX5wCkR8UtgA+DLVfkRwCERcSuwG3BMRDwD+ASwDbAoIpZU/57TxW5JkiRJ6rBeTy0jMy8ELmwq26vh75uBXUa4353A60bY5dMnuYmSJEmSppheTy2TJEmSpLaZyEiSJEmqHRMZSZIkSbVjIiNJkiSpdkxkJEmSJNWOiYwkSZKk2jGRkSRJklQ7JjKSJEmSasdERpIkSVLtmMhIkiRJqh0TGUmSJEm1YyIjSZIkqXZMZCRJkiTVzsxeN0CSJE1Ns2YdPen7vP/+Eyd9n5LWTY7ISJIkSaodExlJkiRJtWMiI0mSJKl2TGQkSZIk1Y6JjCRJkqTaMZGRJEmSVDsmMpIkSZJqx0RGkiRJUu2YyEiSJEmqHRMZSZIkSbUzs9cNAIiIg4BjgPWAUzPztKbtA8A5wCbAIuDwzFwVEdsCC4EtgduA+Zn5cMP9FgCvy8wF3eiHJEmSpO7o+YhMRGwDnATsDgwAh0bE3KZqC4EPZeYO1e3Dq/9PB87MzBcANwLHVft8ekScBHy5w82XJEmS1ANTYURmD+CazFwJEBGXAvsDS6vb2wEbZuZ1Vf3zgBMi4qvAa4B9GsqvBY4EXg/0A58AXt5qQwYHByfYlXVPtx6z6fjcTMc+Sb3ke6oefJ4ktaKVY8VUSGTmAMsbbt8D7DrG9q2B2cBDmbmqqZzMvBK4sppa1rKlS5e21XDBkiVLplWcbpqOfZJ6yfdUPfg8SZosUyGRmQEMNdzuA9a0sL25nKb7tW3u3Ln09/dPZBdT2OUd2evAwEBXYo0cp5umY5+kXvI9VQ8+T5J6Y3BwcMxBhqmQyCyjrI8ZthVPHYFZRjXS0rT9XmDTiJiZmaurOo33a1t/f/80TmQ6o1uP13R8XqZjn6Re8j1VDz5PkiZLzxf7A1cDe0TElhGxEfB24KrhjZl5J/B4RAwnOwuAK6spZYuAAxvLu9VoSZIkSb3T8xGZzLw7Ij4F/Jhy+eVzMvOGiLgCODYz/xWYD5wTERsD/8aTVyM7AvhGdf//Bt7R/R5IkiT1zqxZR0/6Pu+//8RJ36c02VpOZKrfbDkaeD7limC/l5lvmEgjMvNC4MKmsr0a/r4Z2GWE+90JvG6U/Z5HuZqZJEmSpGmknRGZ84EVlN90Wd2Z5kiSJEnS2NpJZHYGZmfmE51qjCRJkiS1op1E5p8p07h+0JmmSJIkaSpzPY6mknYSmVXA9yNiKXBf44bM/JNJbZUkSZIkjaKdRObb1T9JkiRJ6qmWE5nM/EZzWUT0AzGpLZIkSZKkMbRz+eV9gdOAZzVtum+EMkma1pwnLklSb7Uztexk4BjgCeDPgM8BnwVu7kC7JEmSJGmt2klktsjMcyPiWcBHM/OWiDiYksgc35nmSZKkRp0YDQRHBCXVz4w26t4ZEdtn5m+AORHxDOB3wKadaZokSZIkjaydEZkvAj+LiJ2ACyi/K7Oq+l+SJEmSuqblEZnMPA94BXAvcCRwCvAN4MCOtEySJEmS1qKdERmAu4DXAc8BLgSem5mPTnajJEmSJGk0LY/IRMSLgQROAE4FtgFujIj9O9Q2SZIkSRpRO4v9zwI+lpkvB1Zn5q8pl2H2MieSJEmSuqqdROaFwD9Wfw9V/18HbDmpLZIkSZKkMbSTyNwEvL+p7J34g5iSJEmSuqydxf7vB74TER8GNo6Im4BNgL070jJJkiRJWosxE5mIeFXDzb+o7vNa4CdAH/4gpiRJkqQua2VE5lrgf4H7qtt91f9/Uf0/BDx/ktslaRqZNevoSd/n/fd7nRFJktZlrSQyxwL7AY8AFwOXZuY9HW2VJEmSJI1izEQmM08AToiIHYADgKsi4rfAJZSk5t4Ot1GSJEmSnqLlq5Zl5m2Z+dnM3JGy8H828NOIuLpjrZMkSZKkEbRz1TIAImI2sFv1bwvgXye7UZIkSVI3uI6zvlpKZCJiK2BfYH9gR+AK4HTgqsz83UQbEREHAccA6wGnZuZpTdsHgHMol3teBByemasiYltgIeVHOW8D5mfmwxGxGXAB5SIEK4ADXNcjPZUHbkmSVGdjTi2LiEXAvwO7AqcAW2XmuzLz25OUxGwDnATsDgwAh0bE3KZqC4EPZeYO1e3Dq/9PB87MzBcANwLHVeUnANdn5guBs4GnJEaSJEmS6q2VEZndgDXAfOAggIgY3tYHDGXm+hNowx7ANZm5str3pZSRn6XV7e2ADTPzuqr+eZSLD3wVeA2wT0P5tcCRwJspv3UDcBFwRkSsn5lPjNaQwcHBCXRj3dStx2w6Pjdr69MWWxw76bFWrPjMpO9zJN18ntal14Ra4+M3MR7PJ5/H86kXq1umY5+6rZXHsG9oaGjUClUiMarMvLP1Zv3B/o8CNsrMY6rbhwC7ZuZh1e1XAidn5qur239Emdr2WuDGzHx2VT4TeDQz14+I31X7XF1tW1btc/lIbVi8ePEmwIPDt/fc8/LxdmetfvjDfUcs72as6aYTjx2sO4/fdDQdXxPd7NN0PB55PK8HX+dq5vG8db1+nXch1qbz5s17aKR6rVx+edxJSotmUH5Uc1gfZQRorO3N5TTcr6+pvHmfI5o7dy79/f3A5D8hAwMDa9nSzVjTTWcOCOvO4zcdTcfXRDf7NB2PRx7P68HXuZp5PG9Vr1/nK1Z05jEdHBxk6dKlo9Zp+6plHbCMsj5m2FbA8qbtW4+w/V5g04iYWY28bN1wv7uresuqkZqNgZVjNaS/v79KZCZfp/bb61jTkY+fmk3H10S3+uRjV59Y05GvczWbjs/VSH1aVy6+0/LvyHTQ1cAeEbFlRGwEvB24anhjNSL0eEQMJzsLgCszcxXlCmYHNpZXf19R3QZ4B7Coqi9JkiRpGuh5IpOZdwOfAn4M3AQszMwbIuKKiHhZVW0+cEpE/BLYAPhyVX4EcEhE3Eq5KMExVfmngV0j4hbKFc7+sju9kSRJktQNU2FqGZl5IXBhU9leDX/fDOwywv3uBF43Qvn9wN6T3lBJkjTp1pVpMJImV89HZCRJkiSpXSYykiRJkmrHREaSJElS7ZjISJIkSaqdKbHYX5IkSZrOvKjF5HNERpIkSVLtOCIjadrwbJckSesOExlJkiRNKZ6YUiucWiZJkiSpdkxkJEmSJNWOU8skSZoEToWRpO5yREaSJElS7ZjISJIkSaodExlJkiRJteMaGUnStOW6FUmavhyRkSRJklQ7JjKSJEmSasepZSNwKoIkSZI0tTkiI0mSJKl2TGQkSZIk1Y5TyyRJ0jrD6ePS9GEiI0lTmF+6JEkamVPLJEmSJNVOT0dkImIz4ALg+cAK4IDMvKepTh9wMvAWYA1wWGZeW207EjiUkpAdlZmXNdxvY+B64K2ZeUfneyNJkiSpW3o9InMCcH1mvhA4GzhthDr7AS8BXgS8DTg/ItaLiF2AdwM7Aa8GvhARswEi4uXAIiA63wVJkiRJ3dbrRObNwDervy8C3hQR649Q58LMXJOZtwG3UxKXvYDLMvOxzLwX+BHw1uo+hwP/F1je6Q5IkiRJ6r5eL/afQ5VsZObqiHgAmM1TE5A5TbfvAbauym8coZzMfC9ARHsDMoODg+21foqaLv3oFR8/ratWrPjMpO/T95MkaTxa+fzoSiITEQcApzYV3wX0NZX1UdbBNJoBDI1QZ23l47Z06dKJ3H3KWLJkSa+bUGs+fpIkSVNfVxKZzLwYuLi5PCJuB7YClkXETGBjYGVTtWVUIy2VrSgjNCOV50TaOXfuXPr7+yeyi7atWDHQ1XjTy+Ud2evAgM+JJElSLw0ODo45yNDrqWVXAAsoi/7fASzKzFUj1DkkIi4Ctgd2oEwpexw4OyK+BGwE7AEcO5HG9Pf3dz2R0dTja0CSJGnq63Ui82ngvIi4BXgAmA8QEXsDe2fmIcClwMuBpZSpZAdn5mPADRFxPiWp6QeOycy7e9AHSZIkSV3WNzQ0NHataW7x4sWbAA8ODAx4Nr5GZs06uiP79ZfUJUmSemtwcHB43fKm8+bNe2ikOr2+/LIkSZIktc1ERpIkSVLtmMhIkiRJqh0TGUmSJEm1YyIjSZIkqXZMZCRJkiTVjomMJEmSpNoxkZEkSZJUOyYykiRJkmrHREaSJElS7ZjISJIkSaodExlJkiRJtWMiI0mSJKl2TGQkSZIk1Y6JjCRJkqTaMZGRJEmSVDsmMpIkSZJqx0RGkiRJUu2YyEiSJEmqHRMZSZIkSbVjIiNJkiSpdkxkJEmSJNWOiYwkSZKk2jGRkSRJklQ7M3sZPCI2Ay4Ang+sAA7IzHua6vQBJwNvAdYAh2XmtdW2I4FDKQnZUZl5WVX+EeDgqv6NwOGZ+URXOiVJkiSp43o9InMCcH1mvhA4GzhthDr7AS8BXgS8DTg/ItaLiF2AdwM7Aa8GvhARsyNiV+C9wK7AS4H1gL/seE8kSZIkdU2vE5k3A9+s/r4IeFNErD9CnQszc01m3gbcTklc9gIuy8zHMvNe4EfAW4HfAh/IzEcycwi4Gdi2C32RJEmS1CU9nVoGzAGWA2Tm6oh4AJg9XNZcp3IPsHVVfmNzeWb+CvgVQERsCXyAMkIzpsHBwfH1QtOKrwNJkqTeauX7WFcSmYg4ADi1qfguoK+prI+yrqXRDGBohDprKx+O+Vzg+8DZmfnjVtq5dOnSVqppmluyZEmvmyBJkqQxdCWRycyLgYubyyPidmArYFlEzAQ2BlY2VVtGGYEZthVlhGak8qz2O0BJYj6fmV9ptZ1z586lv7+/1erqucs7steBgYGO7FeSJEmtGRwcHHOQoddTy64AFlAW/b8DWJSZq0aoc0hEXARsD+xAmVL2OHB2RHwJ2AjYAzg2IrYArgKOyMy2vun29/ebyMjXgCRJUg30erH/p4FdI+IW4HCqq4tFxN4RcU5V51JgafXvW8DB1QL/G4DzKUnNIuCYzLwb+CtgE0pSs6T6d2JXeyVJkiSpo/qGhobGrjXNLV68eBPgwYGBAc/G18isWUd3ZL/332/eK0mS1EuDg4PD65Y3nTdv3kMj1en1iIwkSZIktc1ERpIkSVLtmMhIkiRJqh0TGUmSJEm1YyIjSZIkqXZMZCRJkiTVjomMJEmSpNoxkZEkSZJUOyYykiRJkmrHREaSJElS7ZjISJIkSaodExlJkiRJtWMiI0mSJKl2TGQkSZIk1Y6JjCRJkqTaMZGRJEmSVDsmMpIkSZJqx0RGkiRJUu2YyEiSJEmqHRMZSZIkSbVjIiNJkiSpdkxkJEmSJNWOiYwkSZKk2pnZ6wZI43X//Sf2ugmSJEnqkZ4mMhGxGXAB8HxgBXBAZt7TVKcPOBl4C7AGOCwzr622HQkcShlZOiozL6vKTwLeBgwB52TmKd3pkSRJkqRu6PWIzAnA9Zn55oh4F3AasF9Tnf2AlwAvAv4IuCoiAhgA3g3sBGwM/EtE/DOwK7AbMBdYH7glIr6fmdmNDkmSJEnqvF6vkXkz8M3q74uAN0XE+iPUuTAz12TmbcDtwKuBvYDLMvOxzLwX+BHw1sy8AnhjZq4GtgD6gUe60BdJkiRJXdLrEZk5wHKAzFwdEQ8As4fLmutU7gG2rspvHKGczFwVEScAHwEuAe5upTGDg4Pj64UkSZKkSdPK9/KuJDIRcQBwalPxXUBfU1kfZR1MoxmUtS7NddZWDkBmHhMRnwO+Q1lHc9ZY7Vy6dOlYVSRJkiRNAV1JZDLzYuDi5vKIuB3YClgWETMpa11WNlVbRjXSUtmKMkIzUnlGxIuBGZm5NDMfjYhvAS9tpZ1z586lv7+/xV5JkiRJ6oTBwcExBxl6PbXsCmABZdH/O4BFmblqhDqHRMRFwPbADpQpZY8DZ0fEl4CNgD2AY4FXAh+OiNdTRmn2Bc5spTH9/f0mMpIkSVIN9DqR+TRwXkTcAjwAzAeIiL2BvTPzEOBS4OXAUspUsoMz8zHghog4n5LU9APHZObdwKURsTOwBBgELsnMS7rcL0mSJEkd1Dc0NDR2rWlu8eLFmwAPDgwMOCIjSZIk9djg4CBLliwB2HTevHkPjVSn1yMyU4pXLZMkSZJ6b8pctawGNgavWiZJkiRNMRsDjsiMYjnwbODhXjdEkiRJElCSmOVr2+gaGUmSJEm1M6PXDZAkSZKkdpnISJIkSaodExlJkiRJtWMiI0mSJKl2TGQkSZIk1Y6XX25BRCwCzszMhQ1lM4G7gVdl5q8j4jiAzDyug7H2Ar4CbAQ8ChyemTd3IM6ngA9QXh+3A+/JzN+Or0ctP347AT/PzKd1KM6xwInAsmrTTZn53g7F2pfyGM6hPE/zM/OOSY7zGPA48OuqeGNgG+CZmfkWX1KyAAAOQElEQVTIJMe6G/hz4DPApsCDwLsz887xxGkh1t7AacDTgP8GDsnM/5mkfY/4fo2IzYALgOcDK4ADMvOeTsRqqLcAeF1mLuhQn54HnAPMBgaBj2bmjzoU66XAWcCGwEpgwVivjwk+ds8GfgHs3Mp7a5x9CuBG4L+qu/wmM9/UoVibAGcALwKGKK/5f+tAnCUNu3gaEEBk5q86EGszYCHwHOB3wGGZuYRRjDPOH1Ne57OA+4D3ZeZto8VpIdaIn7URsT7wNeBllGPw/Mz8j8mO01DvDcDRmfnGsfozgT49s+rT8ygnt0/MzL/vUKznAOdTnqvHKc/VRF4TYz1+GwNLgIMz8ycd6tOGwL3Afzbsal5mrvWXHCfw2vsCsDuwPvDhzPxBh/p0BeX7C5TXxFxgj8y8ZpLjrAecC+xE+Yw6MjOvHqtPzRyRac25wPymsr2AW4CVEXEO8PEuxDof+GRm7kj5Yn5+B+LcChwPHJSZc4FfAh+bQJzRYt1SfTBtSHmRr9+pOMCWlAP0QPVv3ElMC7GOB76bmTsB3wBO7kCcRZm5cWYOUA4C/wl8cLxJzBixbgEOBi6u4l1KSQonYrTX3z8AR2XmS4FvUr4gT8a+R3u/ngBcn5kvBM6mJFIdiRURT4+Ik4AvtxhjXHEoffhGdbyYD1wUEf0dinUOcGz1nP0DcFKH4hARM6p47RwvxhNrV+DrDceMMZOYCcQ6BbirOmZ8EjizE3Ea+jIALAI+P1YSM4E+fQS4tXr9fZbW3lPjifN14Pzq8+oo4JIW4owVa22ftR8EHq+OE39FOT5NepyI6I+II6u+tPKenUifPgP8W1W+J3BKRDyrQ7G+CFxUlR8PnN6hOMNOAzZvIcZEYs0Drml8b42WxEwgzscpJ6V2BvYHzquOhZPep8zcq+E48feU52ytScwE+vQu4GmZ+RLgncB5LfTnD5jItOYS4OURsWVD2bspH6b7AL+ivEE7HeuLmfnTquwmYNsOxDkbeF5m/kd1BmBrYNyjMWPEOqf6+4vA304wxlhxdgHeEhG/iIhvV2d0OxHrPGBHnvwi8g3K6Mxkxzmn4fZ8YGZmtvuFv51YMymjPgAbUM5GdiLWecAGDWdlvgv8aUS0M1I3nvfrm3nyS8lFwJuq138nYr2e8uXkEy3sfyJxFlKSToDbKGfgn9GhWK/KzB9UH6zPprVjxniPqx8HrqacfW/VeGLtAuwcEUsi4pqIeHEnYkVEH7Af8HmA6ixrKydaxv25FBGvppzZPa6lHo0v1kyefL21eswYT5ydKF+2yMyfA3Oq0ciJxFrbZ+3vjxPV9s1biDWeOC8BXgAc1kI/JhrrSqqTRVlGvu8HtupQrAN58rNrWyZ+nFjrd6KIOIDyI+e/aCHGRGLtAmwTEYsj4vrqvdWJOAdQTjwMVaOAewB9HYoFQERsDxwB/N8OxZkJbFidYBv39woTmRZUZ7kvp7yQiIjNgd2AyzPz65n5N5RhsU7HOreh6gnAdzoUZ1VEDFCmYb2e6kOiE7EiYm9gw8y8dJRdTDgO5YB5anXG+PvAhR2KdWf17+SIuBG4DHiiA3Eur27PAP6a9r4UjyfWscBHIuJu4KPA33Qo1iXAIxHxJ1XVA4H1gGdORj9Geb/Oofrl4MxcDTxAOfs16bEy88rM/DhtHLTHGeeizHy0uvkx4ObMfLBDsVZHxGzKMeMIygmRSY8TEfOAN1BGMFo2ztfEo5QzhztTRlX/sZoKMdmxtqRMvXp/RPwsIn5MC2fhJ/i59FngmMxs6dg0zlhfBPaIiOWUs7XHdijOvwEHVfXfSDlWbD3BWGv7rP39caJyz1ixxhMnM2/OzEMpSUXLxhnre1UCQ0QcCDydcha9E7HWZOaaiPgV5eTlmKPS44kTEdtSRszamk0yztfEmuo+L6cc+y6OMl1vsuP8EbB7RCyKiJ8Dz2ph5Gei3ymPAb6UmSs7FOc8yjTD5ZQR4nF9jzGRad3XeHLY7EDg0sx8vNuxqiHnr1Dm6H6wU3Eyc0lmbkn5wLt4gnFGjAVsRnmjtJLtjztOZj6eme/JzOGD6VnA3IjYdLJjAaspQ80/zcxdgH+kjMpMapyG196fAHdn5r9OMMZYsc6lzHHfhrJ+6lvVmeTJjvUY5ez00RFxE+U1spL2k8F236/NfemjfEB1ItZ4jStORHwCOJQ/HPaf1FiZeV9mzqnqf6fFaWwtx6mmoJ5OWT/S6nMzrlgAmfnJzDy7+vJ1FfAI8MIOxJoJPAt4JDNfCXwO+FYH4gAQES8AtqM6GdKGdmP9LXBa9Zr4U+CSiGhlRLDdOAuAfSLiZsrUqJtp/XjR7mftDMoapmGtHie69Zk+7lgR8U7KCYJ9q5M5HYuVmX8MvAL4ZkTMmsw41cm9rwEfqD5P2tVWnzLzbzPzc5m5Ost6nxspX+AnNQ7lOPE84DWUkboL2/gO0/bzVO17b1qb5jreOJ8GfkYZAdwR+HJEbNdGPMBEpmWZ+TNg42qo7V2UJ6yrsarpNZdRPkzf0MrZ1XbjRMRGEfHWhmoLgZdOJM7aYgFvoZw9+2lUi1CraRybTWaciFg/Io4erlN9AZ9BSTrGbS19+h/g0eGkiTLys2sH4gzbhwmOLo0VKyK2AF6cmd+u6lxCOQs55ohFu7GqTasy87VZ1gtcQDk73e6ZyXbfr3dTTaeIskBxY0oC1YlY49JunIjoi4jTgXcAr87MZaPVH2+sKs6fN9z3Kso0gTHnprfZp90pX/i/Ux0v5gBXRMSLWujSeB6/j0VZLDysnxaPGW3Guq/a70XVfX8IPKNpisZkxBm2D/D3mTk0Zs2JxdqXsn6FzLwW+A0tJILjiDMTeFuW+fefpnzZu2OsOKPFGuWzdhlPHYHZiqeO0ExWnHEbT6yI+CTlTPkbM7PlqVjtxoqI/xMRG1T3XUKZvfD8SY7zgurf16rjxMuAcyJijw716ZBqBGhYS8eJcTxP/0NZpzpUPUd3US7WMel9quwF/FNm/m8rMcYZZ1/gvKpPvwR+zji+L5nItOfrlGk16+UYV9roUKyzKGea/iwzH+pQnFWUA8CO1fZ3AD9d250nEiszz8nM7fPJRWXDi1EfmOQ4TwDzI+Jt1fYFlCukTWRh/Npi/Rq4I8qUOSgHg1GvPjSeOA3lrwJ+Mgn7Hy3WfcBj1bQNImI3ytzjdtYotBoL4OsR8Yrq748Cl43zDHw779crKK8LKK/5RZm5qkOxJqKdOMdRrjaze7ZwBbbxxqq+EB8bEW8BiIg9gRWZ2erro9U4/5SZz204XiwH9srMW1uM03KsyuspF7kYvnpUP+XiJ5MaKzN/B/yQ8rojInaljP5M6uPXYCLHjHZi3Uy52uHwlcXmUNZqTXacz1G+EEE5U724jdfe2mKt7bP298eJiNidsvD/vzsQZ6JajhXl6onvAV6RY1yBbaKxKCPDw++puZQTE63GbClOZt6amc9pOE78K2UUt52rYbXTp50pF7agOqmyE2Wa1GTH+S5PHiOeS1lnkh3qE4z/ONFOnMZjxBaUpLPtK/F6+eX2nE/Jgv+q27GqD4J3U164N0b8PhEf9TJ/7cbJzCeiLJL7ejU15C7gkAnsf62xOmikOAcBX42Iz1HODL67g7H2Bc6sYj1M+ZDoRByA7SmXKJ5Mza+JoYjYFzitOpv2MLB/u2d0W4lVeR/ludqYclA7eBL3vTafplwF5hbK+ph2pmG1G2siWopTTeH5BNXc44bjxVsz867JjFUZfn+dQFmPtl+LMdqNM1HtxHo/cG5EHEJZz3Rgmwl1O7EOphwzDqOczT2ojVjtPn4TOWa0E+s9wFkR8RHKGqAFbYw4tBPnY5QpSsdSRkzaPba3/FlLubrmmdVx4gnKWedJjzPBz/S2YlGuQDkEXNVQ/r7M/JcOxDqC8p46lCffU62eUJyqj9/RVZ9uoUwzfFdmPtyBOJ+kfAYPr186rM0RvHYfv+0p64nb1U6fPkw5RvwH5ST6MdnCpdOb9Q0NTcZ3EUmSJEnqHqeWSZIkSaodExlJkiRJtWMiI0mSJKl2TGQkSZIk1Y6JjCRJkqTa8fLLkqQpobr0+0coP2j3v5RfuD9qtMuZRsR5wH9m5gldaaQkacpwREaS1HPV7418gfL7N7OAHYEtgct72S5J0tTliIwkqaeqHz89AXhbZv6kKr6v+jHKcyNiNvA24Chgc+DHwBGZ+Zum/dwBvDMzr61u/yflB33vAK4G/oHyo3y/ofwI5VHA7sD1VezHImKIMip0FOVH+47OzIUd6bgkaUIckZEk9dqrKL8ufk1jYWY+lJn7Ay8BPgvsC8yhJCIXtBlje8qvR28OXAf8kPKr5tsA2wH7N9TdEXgOcCRwRkQ8rc1YkqQuMJGRJPXaLOC3mTm4lu3vAM7KzJsz83Hgo8BrI2LrNuOcnJlrgGuBX2TmdZn5EHADJXEZ9reZ+TvKtLaNKFPcJElTjImMJKnXfgM8MyL+YLpzRGwBbAv893BZZj4KrKSMprRqTcNFAwaBhxq38dTPw/uqOGuqbf1txJEkdYmJjCSp134GrAb2bCyMiGcAvwbWpyQzw+UbAbOBFU37WcNT135u3vD30CS2V5I0BbjYX5LUU9Ui++OBsyLiXcA/U0ZbvgrcCHwOuCAiLgNuA04GbszMOyOicVe/BvaLiOuAw3hqIiNJmmYckZEk9VxmfoGy+P404EHgX4DbgX0y8xrgWMrvyqygrGfZf4TdfBx4NWXa2c7ATzvfcklSr/QNDTnaLkmSJKleHJGRJEmSVDsmMpIkSZJqx0RGkiRJUu2YyEiSJEmqHRMZSZIkSbVjIiNJkiSpdkxkJEmSJNWOiYwkSZKk2jGRkSRJklQ7JjKSJEmSauf/AzJIQ6P4RrHCAAAAAElFTkSuQmCC\n",
      "text/plain": [
       "<Figure size 960x320 with 1 Axes>"
      ]
     },
     "metadata": {},
     "output_type": "display_data"
    }
   ],
   "source": [
    "plt.figure(figsize=(12,4), dpi=80)\n",
    "sns.barplot(x=pca_vars, y=X_train[pca_vars].mean(), color='darkblue')\n",
    "plt.xlabel('Column')\n",
    "plt.ylabel('Mean')\n",
    "plt.title('V1-V28 Means')"
   ]
  },
  {
   "cell_type": "markdown",
   "metadata": {},
   "source": [
    "All of `V1-V28` have approximately zero mean. Now plot the standard deviations:"
   ]
  },
  {
   "cell_type": "code",
   "execution_count": 36,
   "metadata": {},
   "outputs": [
    {
     "data": {
      "text/plain": [
       "Text(0.5,1,'V1-V28 Standard Deviations')"
      ]
     },
     "execution_count": 36,
     "metadata": {},
     "output_type": "execute_result"
    },
    {
     "data": {
      "image/png": "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\n",
      "text/plain": [
       "<Figure size 960x320 with 1 Axes>"
      ]
     },
     "metadata": {},
     "output_type": "display_data"
    }
   ],
   "source": [
    "plt.figure(figsize=(12,4), dpi=80)\n",
    "sns.barplot(x=pca_vars, y=X_train[pca_vars].std(), color='darkred')\n",
    "plt.xlabel('Column')\n",
    "plt.ylabel('Standard Deviation')\n",
    "plt.title('V1-V28 Standard Deviations')"
   ]
  },
  {
   "cell_type": "markdown",
   "metadata": {},
   "source": [
    "The PCA variables have roughly unit variance, but as low as ~0.3 and as high as ~1.9. Plot the skewnesses next:"
   ]
  },
  {
   "cell_type": "code",
   "execution_count": 37,
   "metadata": {},
   "outputs": [
    {
     "data": {
      "text/plain": [
       "Text(0.5,1,'V1-V28 Skewnesses')"
      ]
     },
     "execution_count": 37,
     "metadata": {},
     "output_type": "execute_result"
    },
    {
     "data": {
      "image/png": "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\n",
      "text/plain": [
       "<Figure size 960x320 with 1 Axes>"
      ]
     },
     "metadata": {},
     "output_type": "display_data"
    }
   ],
   "source": [
    "plt.figure(figsize=(12,4), dpi=80)\n",
    "sns.barplot(x=pca_vars, y=X_train[pca_vars].skew(), color='darkgreen')\n",
    "plt.xlabel('Column')\n",
    "plt.ylabel('Skewness')\n",
    "plt.title('V1-V28 Skewnesses')"
   ]
  },
  {
   "cell_type": "markdown",
   "metadata": {},
   "source": [
    "A few of the PCA variables are significantly skewed. Let's plot a histogram of one of the particularly skewed variables, `V8`, to see the distribution in detail."
   ]
  },
  {
   "cell_type": "code",
   "execution_count": 38,
   "metadata": {},
   "outputs": [
    {
     "name": "stderr",
     "output_type": "stream",
     "text": [
      "C:\\Users\\Joe\\Anaconda3\\lib\\site-packages\\matplotlib\\axes\\_axes.py:6462: UserWarning: The 'normed' kwarg is deprecated, and has been replaced by the 'density' kwarg.\n",
      "  warnings.warn(\"The 'normed' kwarg is deprecated, and has been \"\n"
     ]
    },
    {
     "data": {
      "text/plain": [
       "Text(0.5,1,'V8')"
      ]
     },
     "execution_count": 38,
     "metadata": {},
     "output_type": "execute_result"
    },
    {
     "data": {
      "image/png": "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\n",
      "text/plain": [
       "<Figure size 960x320 with 1 Axes>"
      ]
     },
     "metadata": {},
     "output_type": "display_data"
    }
   ],
   "source": [
    "plt.figure(figsize=(12,4), dpi=80)\n",
    "sns.distplot(X_train['V8'], bins=300, kde=False)\n",
    "plt.ylabel('Count')\n",
    "plt.title('V8')"
   ]
  },
  {
   "cell_type": "markdown",
   "metadata": {},
   "source": [
    "The histogram doesn't show us outliers. Let's try a boxplot:"
   ]
  },
  {
   "cell_type": "code",
   "execution_count": 39,
   "metadata": {},
   "outputs": [
    {
     "data": {
      "text/plain": [
       "Text(0.5,1,'V8')"
      ]
     },
     "execution_count": 39,
     "metadata": {},
     "output_type": "execute_result"
    },
    {
     "data": {
      "image/png": "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\n",
      "text/plain": [
       "<Figure size 960x320 with 1 Axes>"
      ]
     },
     "metadata": {},
     "output_type": "display_data"
    }
   ],
   "source": [
    "plt.figure(figsize=(12,4), dpi=80)\n",
    "sns.boxplot(X_train['V8'])\n",
    "plt.title('V8')"
   ]
  },
  {
   "cell_type": "markdown",
   "metadata": {},
   "source": [
    "The boxplot is also hard to read due to the large number of outliers, which indicates high kurtosis in `V8`. This motivates us to plot the kurtoses of the PCA variables. The kurtosis method employed in pandas is Fisher’s definition, for which the standard normal distribution has kurtosis 0."
   ]
  },
  {
   "cell_type": "markdown",
   "metadata": {},
   "source": [
    "Note the log scale on the y-axis in the plot below:"
   ]
  },
  {
   "cell_type": "code",
   "execution_count": 40,
   "metadata": {},
   "outputs": [
    {
     "data": {
      "text/plain": [
       "Text(0.5,1,'V1-V28 Kurtoses')"
      ]
     },
     "execution_count": 40,
     "metadata": {},
     "output_type": "execute_result"
    },
    {
     "data": {
      "image/png": "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\n",
      "text/plain": [
       "<Figure size 960x320 with 1 Axes>"
      ]
     },
     "metadata": {},
     "output_type": "display_data"
    }
   ],
   "source": [
    "plt.figure(figsize=(12,4), dpi=80)\n",
    "plt.yscale('log')\n",
    "sns.barplot(x=pca_vars, y=X_train[pca_vars].kurtosis(), color='darkorange')\n",
    "plt.xlabel('Column')\n",
    "plt.ylabel('Kurtosis')\n",
    "plt.title('V1-V28 Kurtoses')"
   ]
  },
  {
   "cell_type": "markdown",
   "metadata": {},
   "source": [
    "We've learned that many of the PCA variables are heavy-tailed. The large numbers of outliers in `V1-V28` motivates us to consider robust descriptive statistics. Let's plot the medians:"
   ]
  },
  {
   "cell_type": "code",
   "execution_count": 41,
   "metadata": {},
   "outputs": [
    {
     "data": {
      "text/plain": [
       "Text(0.5,1,'V1-V28 Medians')"
      ]
     },
     "execution_count": 41,
     "metadata": {},
     "output_type": "execute_result"
    },
    {
     "data": {
      "image/png": "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\n",
      "text/plain": [
       "<Figure size 960x320 with 1 Axes>"
      ]
     },
     "metadata": {},
     "output_type": "display_data"
    }
   ],
   "source": [
    "plt.figure(figsize=(12,4), dpi=80)\n",
    "sns.barplot(x=pca_vars, y=X_train[pca_vars].median(), color='darkblue')\n",
    "plt.xlabel('Column')\n",
    "plt.ylabel('Median')\n",
    "plt.title('V1-V28 Medians')"
   ]
  },
  {
   "cell_type": "markdown",
   "metadata": {},
   "source": [
    "The medians are also roughly zero. Next let's look at the interquartile ranges (IQR)*:\n",
    "\n",
    "*Pandas does not have a built-in IQR method, but we can use the [`quantile`](https://pandas.pydata.org/pandas-docs/stable/generated/pandas.DataFrame.quantile.html) method to calculate the IQR."
   ]
  },
  {
   "cell_type": "code",
   "execution_count": 42,
   "metadata": {},
   "outputs": [
    {
     "data": {
      "text/plain": [
       "Text(0.5,1,'V1-V28 IQRs')"
      ]
     },
     "execution_count": 42,
     "metadata": {},
     "output_type": "execute_result"
    },
    {
     "data": {
      "image/png": "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\n",
      "text/plain": [
       "<Figure size 960x320 with 1 Axes>"
      ]
     },
     "metadata": {},
     "output_type": "display_data"
    }
   ],
   "source": [
    "plt.figure(figsize=(12,4), dpi=80)\n",
    "sns.barplot(x=pca_vars, y=X_train[pca_vars].quantile(0.75) - X_train[pca_vars].quantile(0.25), color='darkred')\n",
    "plt.xlabel('Column')\n",
    "plt.ylabel('IQR')\n",
    "plt.title('V1-V28 IQRs')"
   ]
  },
  {
   "cell_type": "markdown",
   "metadata": {},
   "source": [
    "The IQRs of `V1-V28` are on a similar scale as the standard deviations."
   ]
  },
  {
   "cell_type": "markdown",
   "metadata": {},
   "source": [
    "# 5. Mutual Information between Fraud and the Predictors\n",
    "<a id='5'></a>"
   ]
  },
  {
   "cell_type": "markdown",
   "metadata": {},
   "source": [
    "[Mutual information](https://en.wikipedia.org/wiki/Mutual_information) is a non-parametric method to estimate the mutual dependence between two variables. Mutual information of 0 indicates no dependence, and higher values indicate higher dependence. According to the [sklearn User Guide](http://scikit-learn.org/stable/modules/feature_selection.html#univariate-feature-selection), \"mutual information methods can capture any kind of statistical dependency, but being nonparametric, they require more samples for accurate estimation.\" We have 227,845 training samples, so mutual information should work well. Because the target variable is discrete, we use [`mutual_info_classif`](http://scikit-learn.org/stable/modules/generated/sklearn.feature_selection.mutual_info_classif.html#sklearn.feature_selection.mutual_info_classif) (as opposed to [`mutual_info_regression`](http://scikit-learn.org/stable/modules/generated/sklearn.feature_selection.mutual_info_regression.html#sklearn.feature_selection.mutual_info_regression) for a continuous target)."
   ]
  },
  {
   "cell_type": "code",
   "execution_count": 43,
   "metadata": {},
   "outputs": [],
   "source": [
    "from sklearn.feature_selection import mutual_info_classif"
   ]
  },
  {
   "cell_type": "code",
   "execution_count": 44,
   "metadata": {},
   "outputs": [],
   "source": [
    "mutual_infos = pd.Series(data=mutual_info_classif(X_train, y_train, discrete_features=False, random_state=1), index=X_train.columns)"
   ]
  },
  {
   "cell_type": "markdown",
   "metadata": {},
   "source": [
    "The calculated mutual informations of each variable with `Class`, in descending order:"
   ]
  },
  {
   "cell_type": "code",
   "execution_count": 45,
   "metadata": {},
   "outputs": [
    {
     "data": {
      "text/plain": [
       "V17       0.008037\n",
       "V14       0.007977\n",
       "V10       0.007354\n",
       "V12       0.007354\n",
       "V11       0.006607\n",
       "V16       0.005793\n",
       "V4        0.004843\n",
       "V3        0.004755\n",
       "V18       0.004025\n",
       "V9        0.003996\n",
       "V7        0.003941\n",
       "V2        0.003085\n",
       "V21       0.002304\n",
       "V27       0.002271\n",
       "V6        0.002265\n",
       "V5        0.002254\n",
       "V1        0.001990\n",
       "V8        0.001843\n",
       "V28       0.001757\n",
       "Time      0.001722\n",
       "Amount    0.001419\n",
       "V19       0.001322\n",
       "V20       0.001136\n",
       "V23       0.000827\n",
       "V24       0.000593\n",
       "V26       0.000459\n",
       "V22       0.000388\n",
       "V25       0.000376\n",
       "V15       0.000230\n",
       "V13       0.000205\n",
       "dtype: float64"
      ]
     },
     "execution_count": 45,
     "metadata": {},
     "output_type": "execute_result"
    }
   ],
   "source": [
    "mutual_infos.sort_values(ascending=False)"
   ]
  },
  {
   "cell_type": "markdown",
   "metadata": {},
   "source": [
    "The five most correlated variables with `Class` are, in decreasing order, V17, V14, V10, V12, and V11."
   ]
  },
  {
   "cell_type": "markdown",
   "metadata": {
    "_cell_guid": "4cb52db6-f54a-4f1f-a056-332413a2bf8f",
    "_uuid": "337f0cff30885c40ff909ff41d39f23637ce2f02"
   },
   "source": [
    "# 6. Modeling\n",
    "<a id='6'></a>"
   ]
  },
  {
   "cell_type": "markdown",
   "metadata": {},
   "source": [
    "Now we're ready to build machine learning models to predict whether a transaction is fraudulent. We'll train the following models:\n",
    "* Logistic regression\n",
    "* Support vector classifier\n",
    "* Random forest"
   ]
  },
  {
   "cell_type": "markdown",
   "metadata": {
    "_cell_guid": "ff58210c-bff5-4802-a598-a14ba65ab132",
    "_uuid": "42bee521e8051396dd2c728126e5569ee5707daf"
   },
   "source": [
    "## 6.1 Logistic Regression and Support Vector Classifier\n",
    "<a id='6.1'></a>"
   ]
  },
  {
   "cell_type": "markdown",
   "metadata": {
    "_cell_guid": "05340a29-ef89-41e0-9707-e144b09cc556",
    "_uuid": "16b1b1f0be5e5d7b2b921c2b5b1936940d0646c2"
   },
   "source": [
    "The class [`SGDClassifier`](http://scikit-learn.org/stable/modules/generated/sklearn.linear_model.SGDClassifier.html) implements multiple linear classifiers with SGD training, which makes learning much faster on large datasets. We'll implement the model as a machine learning pipeline that includes [`StandardScaler`](http://scikit-learn.org/stable/modules/generated/sklearn.preprocessing.StandardScaler.html) for data standardization (rescaling each variable to zero mean and unit variance)."
   ]
  },
  {
   "cell_type": "code",
   "execution_count": 46,
   "metadata": {
    "_cell_guid": "13db0842-917a-4559-97fc-348c0a1cd5a7",
    "_uuid": "d24a95d46fb8ff54928a1287fd81bd6d2ed00899"
   },
   "outputs": [],
   "source": [
    "from sklearn.pipeline import Pipeline\n",
    "from sklearn.preprocessing import StandardScaler\n",
    "from sklearn.linear_model import SGDClassifier"
   ]
  },
  {
   "cell_type": "code",
   "execution_count": 47,
   "metadata": {},
   "outputs": [],
   "source": [
    "pipeline_sgd = Pipeline([\n",
    "    ('scaler', StandardScaler(copy=False)),\n",
    "    ('model', SGDClassifier(max_iter=1000, tol=1e-3, random_state=1, warm_start=True))\n",
    "])"
   ]
  },
  {
   "cell_type": "markdown",
   "metadata": {
    "_cell_guid": "85f67845-4095-4094-a076-07cbbf137b29",
    "_uuid": "a49896a87a78f2d9ba76dad2c8ed42e5b36e326c"
   },
   "source": [
    "We'll conduct a grid search over several hyperparameter choices. The search uses 5-fold cross-validation with stratified folds. The type of linear classifier is chosen with the `loss` hyperparameter. For a linear SVC we set `loss = 'hinge'`, and for logistic regression we set `loss = 'log'`.\n",
    "\n",
    "Set the hyperparameter grids to search over, one grid for the linear SVC and one for logistic regression:"
   ]
  },
  {
   "cell_type": "code",
   "execution_count": 48,
   "metadata": {
    "_cell_guid": "f365e59e-41df-46f0-8f17-5f82a5db63b4",
    "_uuid": "12ec50d10be23449df42ac265d1703f52443bb83"
   },
   "outputs": [],
   "source": [
    "param_grid_sgd = [{\n",
    "    'model__loss': ['log'],\n",
    "    'model__penalty': ['l1', 'l2'],\n",
    "    'model__alpha': np.logspace(start=-3, stop=3, num=20)\n",
    "}, {\n",
    "    'model__loss': ['hinge'],\n",
    "    'model__alpha': np.logspace(start=-3, stop=3, num=20),\n",
    "    'model__class_weight': [None, 'balanced']\n",
    "}]"
   ]
  },
  {
   "cell_type": "markdown",
   "metadata": {
    "_cell_guid": "6f3ae04e-5a6f-4da6-b695-df37b59f3e98",
    "_uuid": "ccec293d64596dbe036006319a002eb5e6a20556"
   },
   "source": [
    "The grid search, implemented by [`GridSearchCV`](http://scikit-learn.org/stable/modules/generated/sklearn.model_selection.GridSearchCV.html), uses [`StratifiedKFold`](http://scikit-learn.org/stable/modules/generated/sklearn.model_selection.StratifiedKFold.html#sklearn.model_selection.StratifiedKFold) with 5 folds for the train/validation splits. We'll use [`matthews_corrcoef`](http://scikit-learn.org/stable/modules/generated/sklearn.metrics.matthews_corrcoef.html) (the [Matthews correlation coefficient](https://en.wikipedia.org/wiki/Matthews_correlation_coefficient), MCC) as our scoring metric."
   ]
  },
  {
   "cell_type": "code",
   "execution_count": 49,
   "metadata": {
    "_cell_guid": "923a203f-20de-4f82-89d3-e2207a843669",
    "_uuid": "2e87d978dcf446ad11025d41f7b4a2220355b385"
   },
   "outputs": [],
   "source": [
    "from sklearn.model_selection import GridSearchCV\n",
    "from sklearn.metrics import make_scorer, matthews_corrcoef"
   ]
  },
  {
   "cell_type": "code",
   "execution_count": 50,
   "metadata": {
    "_cell_guid": "24614f27-48a8-4093-b47e-88b11fc3099d",
    "_uuid": "84826d16dcff9280efb3d821211c7f7b62d00620"
   },
   "outputs": [],
   "source": [
    "MCC_scorer = make_scorer(matthews_corrcoef)\n",
    "grid_sgd = GridSearchCV(estimator=pipeline_sgd, param_grid=param_grid_sgd, scoring=MCC_scorer, n_jobs=-1, pre_dispatch='2*n_jobs', cv=5, verbose=1, return_train_score=False)"
   ]
  },
  {
   "cell_type": "markdown",
   "metadata": {
    "_cell_guid": "e24b2f08-2e0d-48ea-80c7-e1e94f202c09",
    "_uuid": "a5207699474eea2ab2e08356215dcd3571a0da3a"
   },
   "source": [
    "Perform the grid search:"
   ]
  },
  {
   "cell_type": "code",
   "execution_count": 51,
   "metadata": {
    "_cell_guid": "e91120ad-d2cf-4387-b6c0-c61917510a7b",
    "_uuid": "d0dbc65a80835afb2ce94217f1c07c8e0a80d3fd"
   },
   "outputs": [
    {
     "name": "stdout",
     "output_type": "stream",
     "text": [
      "Fitting 5 folds for each of 80 candidates, totalling 400 fits\n"
     ]
    },
    {
     "name": "stderr",
     "output_type": "stream",
     "text": [
      "[Parallel(n_jobs=-1)]: Done  42 tasks      | elapsed:   21.3s\n",
      "[Parallel(n_jobs=-1)]: Done 192 tasks      | elapsed:  1.3min\n",
      "[Parallel(n_jobs=-1)]: Done 400 out of 400 | elapsed:  2.3min finished\n"
     ]
    }
   ],
   "source": [
    "import warnings\n",
    "with warnings.catch_warnings(): # Suppress warnings from the matthews_corrcoef function\n",
    "    warnings.simplefilter(\"ignore\")\n",
    "    grid_sgd.fit(X_train, y_train)"
   ]
  },
  {
   "cell_type": "markdown",
   "metadata": {},
   "source": [
    "Mean cross-validated MCC score of the best estimator found:"
   ]
  },
  {
   "cell_type": "code",
   "execution_count": 52,
   "metadata": {},
   "outputs": [
    {
     "data": {
      "text/plain": [
       "0.8075666039570759"
      ]
     },
     "execution_count": 52,
     "metadata": {},
     "output_type": "execute_result"
    }
   ],
   "source": [
    "grid_sgd.best_score_"
   ]
  },
  {
   "cell_type": "markdown",
   "metadata": {
    "_cell_guid": "349055be-f543-45ec-9d49-5602610440da",
    "_uuid": "7b7d88c3a0abb8d03e2fcc0b4f4a6fefbaeca8f2"
   },
   "source": [
    "This is a pretty good MCC score---random guessing has a score of 0, and a perfect predictor has a score of 1. Now check the best hyperparameters found in the grid search:"
   ]
  },
  {
   "cell_type": "code",
   "execution_count": 53,
   "metadata": {
    "_cell_guid": "9f12d8ea-bc2c-4fd4-bab1-5aff65c54906",
    "_uuid": "836dc9e7f4cfe909f212f386e38692a070c59c9e"
   },
   "outputs": [
    {
     "data": {
      "text/plain": [
       "{'model__alpha': 483.2930238571752,\n",
       " 'model__class_weight': 'balanced',\n",
       " 'model__loss': 'hinge'}"
      ]
     },
     "execution_count": 53,
     "metadata": {},
     "output_type": "execute_result"
    }
   ],
   "source": [
    "grid_sgd.best_params_"
   ]
  },
  {
   "cell_type": "markdown",
   "metadata": {},
   "source": [
    "So the linear SVC performed better than logistic regression, and with a high level of regularization ($\\alpha\\approx 483$)."
   ]
  },
  {
   "cell_type": "markdown",
   "metadata": {
    "_cell_guid": "e9d7a963-410a-431e-b8ab-54597f4c7525",
    "_uuid": "ec7558d55c8a6abc525f49cd553f572bd8c37557"
   },
   "source": [
    "## 6.2 Random Forest\n",
    "<a id='6.2'></a>"
   ]
  },
  {
   "cell_type": "markdown",
   "metadata": {},
   "source": [
    "Next we'll try a random forest model, implemented in [`RandomForestClassifier`](http://scikit-learn.org/stable/modules/generated/sklearn.ensemble.RandomForestClassifier.html)."
   ]
  },
  {
   "cell_type": "code",
   "execution_count": 54,
   "metadata": {
    "_cell_guid": "7fee44fa-ad54-429a-ab97-b8a41184030e",
    "_uuid": "493cc36f8bdd5eb5b4c898bf01ec1f1c93688a91"
   },
   "outputs": [],
   "source": [
    "from sklearn.ensemble import RandomForestClassifier"
   ]
  },
  {
   "cell_type": "markdown",
   "metadata": {},
   "source": [
    "We do not need to rescale the data for tree-based models, so our pipeline will simply consist of the random forest model. We'll leave the pipeline implementation in place in case we want to add preprocessing steps in the future."
   ]
  },
  {
   "cell_type": "code",
   "execution_count": 55,
   "metadata": {},
   "outputs": [],
   "source": [
    "pipeline_rf = Pipeline([\n",
    "    ('model', RandomForestClassifier(n_jobs=-1, random_state=1))\n",
    "])"
   ]
  },
  {
   "cell_type": "markdown",
   "metadata": {
    "_cell_guid": "2dca52bf-7286-4afc-af09-5c5d6c3bda07",
    "_uuid": "33126a40a3f4d1d4d6a8cff170a9f636cf273efa"
   },
   "source": [
    "The random forest takes much longer to train on this fairly large dataset, so we don't actually do a hyperparameter grid search, only specifiying the number of estimators. We'll leave the grid search implemented in case we decide to try different hyperparameter values in the future."
   ]
  },
  {
   "cell_type": "code",
   "execution_count": 56,
   "metadata": {
    "_cell_guid": "f365e59e-41df-46f0-8f17-5f82a5db63b4",
    "_uuid": "12ec50d10be23449df42ac265d1703f52443bb83"
   },
   "outputs": [],
   "source": [
    "param_grid_rf = {'model__n_estimators': [75]}"
   ]
  },
  {
   "cell_type": "code",
   "execution_count": 57,
   "metadata": {
    "_cell_guid": "24614f27-48a8-4093-b47e-88b11fc3099d",
    "_uuid": "84826d16dcff9280efb3d821211c7f7b62d00620"
   },
   "outputs": [],
   "source": [
    "grid_rf = GridSearchCV(estimator=pipeline_rf, param_grid=param_grid_rf, scoring=MCC_scorer, n_jobs=-1, pre_dispatch='2*n_jobs', cv=5, verbose=1, return_train_score=False)"
   ]
  },
  {
   "cell_type": "markdown",
   "metadata": {
    "_cell_guid": "e24b2f08-2e0d-48ea-80c7-e1e94f202c09",
    "_uuid": "a5207699474eea2ab2e08356215dcd3571a0da3a"
   },
   "source": [
    "Perform the grid search:"
   ]
  },
  {
   "cell_type": "code",
   "execution_count": 58,
   "metadata": {
    "_cell_guid": "e91120ad-d2cf-4387-b6c0-c61917510a7b",
    "_uuid": "d0dbc65a80835afb2ce94217f1c07c8e0a80d3fd"
   },
   "outputs": [
    {
     "name": "stdout",
     "output_type": "stream",
     "text": [
      "Fitting 5 folds for each of 1 candidates, totalling 5 fits\n"
     ]
    },
    {
     "name": "stderr",
     "output_type": "stream",
     "text": [
      "[Parallel(n_jobs=-1)]: Done   5 out of   5 | elapsed:  4.4min finished\n"
     ]
    },
    {
     "data": {
      "text/plain": [
       "GridSearchCV(cv=5, error_score='raise',\n",
       "       estimator=Pipeline(memory=None,\n",
       "     steps=[('model', RandomForestClassifier(bootstrap=True, class_weight=None, criterion='gini',\n",
       "            max_depth=None, max_features='auto', max_leaf_nodes=None,\n",
       "            min_impurity_decrease=0.0, min_impurity_split=None,\n",
       "            min_samples_leaf=1, min_samples_split=2,\n",
       "            min_weight_fraction_leaf=0.0, n_estimators=10, n_jobs=-1,\n",
       "            oob_score=False, random_state=1, verbose=0, warm_start=False))]),\n",
       "       fit_params=None, iid=True, n_jobs=-1,\n",
       "       param_grid={'model__n_estimators': [75]}, pre_dispatch='2*n_jobs',\n",
       "       refit=True, return_train_score=False,\n",
       "       scoring=make_scorer(matthews_corrcoef), verbose=1)"
      ]
     },
     "execution_count": 58,
     "metadata": {},
     "output_type": "execute_result"
    }
   ],
   "source": [
    "grid_rf.fit(X_train, y_train)"
   ]
  },
  {
   "cell_type": "code",
   "execution_count": 59,
   "metadata": {},
   "outputs": [
    {
     "data": {
      "text/plain": [
       "0.8567203839327452"
      ]
     },
     "execution_count": 59,
     "metadata": {},
     "output_type": "execute_result"
    }
   ],
   "source": [
    "grid_rf.best_score_"
   ]
  },
  {
   "cell_type": "markdown",
   "metadata": {},
   "source": [
    "The random forest performed much better than the linear SVC---and without any hyperparameter tweaking!"
   ]
  },
  {
   "cell_type": "code",
   "execution_count": 60,
   "metadata": {
    "_cell_guid": "9f12d8ea-bc2c-4fd4-bab1-5aff65c54906",
    "_uuid": "836dc9e7f4cfe909f212f386e38692a070c59c9e"
   },
   "outputs": [
    {
     "data": {
      "text/plain": [
       "{'model__n_estimators': 75}"
      ]
     },
     "execution_count": 60,
     "metadata": {},
     "output_type": "execute_result"
    }
   ],
   "source": [
    "grid_rf.best_params_"
   ]
  },
  {
   "cell_type": "markdown",
   "metadata": {
    "_cell_guid": "0ccfb680-5f71-45bf-9ad0-eb92fa77f4c6",
    "_uuid": "0b2c4867b3ee9e908bf7613480dee910e05ce11a"
   },
   "source": [
    "# 7. Test Set Evaluation of the Best Model\n",
    "<a id='7'></a>"
   ]
  },
  {
   "cell_type": "markdown",
   "metadata": {},
   "source": [
    "According to the cross-validated MCC scores, the random forest is the best-performing model, so now let's evaluate its performance on the test set."
   ]
  },
  {
   "cell_type": "code",
   "execution_count": 61,
   "metadata": {
    "_cell_guid": "275cb55b-b9c8-482f-86b3-6c82caf7c153",
    "_uuid": "2bb7a6794a5f4e98773f2b26cba0ba71a6472aad"
   },
   "outputs": [],
   "source": [
    "from sklearn.metrics import confusion_matrix, classification_report, matthews_corrcoef, cohen_kappa_score, accuracy_score, average_precision_score, roc_auc_score"
   ]
  },
  {
   "cell_type": "code",
   "execution_count": 62,
   "metadata": {
    "_cell_guid": "13f72647-4a31-47a2-9971-871c8df09aa9",
    "_uuid": "4ad4004eafcca2ae59ac198327e952fe93fe889c"
   },
   "outputs": [],
   "source": [
    "def classification_eval(estimator, X_test, y_test):\n",
    "    \"\"\"\n",
    "    Print several metrics of classification performance of an estimator, given features X_test and true labels y_test.\n",
    "    \n",
    "    Input: estimator or GridSearchCV instance, X_test, y_test\n",
    "    Returns: text printout of metrics\n",
    "    \"\"\"\n",
    "    y_pred = estimator.predict(X_test)\n",
    "    \n",
    "    # Number of decimal places based on number of samples\n",
    "    dec = np.int64(np.ceil(np.log10(len(y_test))))\n",
    "    \n",
    "    print('CONFUSION MATRIX')\n",
    "    print(confusion_matrix(y_test, y_pred), '\\n')\n",
    "    \n",
    "    print('CLASSIFICATION REPORT')\n",
    "    print(classification_report(y_test, y_pred, digits=dec))\n",
    "    \n",
    "    print('SCALAR METRICS')\n",
    "    format_str = '%%13s = %%.%if' % dec\n",
    "    print(format_str % ('MCC', matthews_corrcoef(y_test, y_pred)))\n",
    "    if y_test.nunique() <= 2: # Additional metrics for binary classification\n",
    "        try:\n",
    "            y_score = estimator.predict_proba(X_test)[:,1]\n",
    "        except:\n",
    "            y_score = estimator.decision_function(X_test)\n",
    "        print(format_str % ('AUPRC', average_precision_score(y_test, y_score)))\n",
    "        print(format_str % ('AUROC', roc_auc_score(y_test, y_score)))\n",
    "    print(format_str % (\"Cohen's kappa\", cohen_kappa_score(y_test, y_pred)))\n",
    "    print(format_str % ('Accuracy', accuracy_score(y_test, y_pred)))"
   ]
  },
  {
   "cell_type": "markdown",
   "metadata": {},
   "source": [
    "Evaluate the random forest on the test set:"
   ]
  },
  {
   "cell_type": "code",
   "execution_count": 63,
   "metadata": {
    "_cell_guid": "fed87b52-b81b-43f6-ac1f-4a7a9d78d58d",
    "_uuid": "fe8fd85ae8b465b00ba967cba1eb082a0046dbce"
   },
   "outputs": [
    {
     "name": "stdout",
     "output_type": "stream",
     "text": [
      "CONFUSION MATRIX\n",
      "[[56854    10]\n",
      " [   15    83]] \n",
      "\n",
      "CLASSIFICATION REPORT\n",
      "             precision    recall  f1-score   support\n",
      "\n",
      "          0    0.99974   0.99982   0.99978     56864\n",
      "          1    0.89247   0.84694   0.86911        98\n",
      "\n",
      "avg / total    0.99955   0.99956   0.99956     56962\n",
      "\n",
      "SCALAR METRICS\n",
      "          MCC = 0.86919\n",
      "        AUPRC = 0.85098\n",
      "        AUROC = 0.95924\n",
      "Cohen's kappa = 0.86889\n",
      "     Accuracy = 0.99956\n"
     ]
    }
   ],
   "source": [
    "classification_eval(grid_rf, X_test, y_test)"
   ]
  },
  {
   "cell_type": "markdown",
   "metadata": {},
   "source": [
    "According to the MCC, the random forest performed better on the test set than on the training set. This is probably due to the refit model being trained on the entire training data set, and not on the smaller CV folds."
   ]
  },
  {
   "cell_type": "markdown",
   "metadata": {},
   "source": [
    "# 8. Conclusion\n",
    "<a id='8'></a>"
   ]
  },
  {
   "cell_type": "markdown",
   "metadata": {},
   "source": [
    "We were able to accurately identify fraudulent credit card transactions using a random forest model. We found that the five variables most correlated with fraud are, in decreasing order, V17, V14, V10, V12, and V11. Only a few preprocessing steps were necessary before constructing predictive models:\n",
    "* Split the data using a random, stratified train/test split with a test size of 20%\n",
    "* Box-Cox power transform of the transaction amounts to remove skewness in the data\n",
    "* Mean and variance standardization of all features as part of a machine learning pipeline\n",
    "\n",
    "We used the [Matthews correlation coefficient (MCC)](https://en.wikipedia.org/wiki/Matthews_correlation_coefficient) to compare the performance of different models. In cross validation, the best linear model (logistic regression, linear SVC) achieved a cross-validated MCC score of 0.807, and a random forest achieved a cross-validated MCC score of 0.856. We therefore chose the random forest as the better model, which obtained an MCC of 0.869 on the test set.\n",
    "\n",
    "To improve a chosen model, we searched over a grid of hyperparameters and compared performance with cross-validation. It may be possible to improve the random forest model by further tweaking the hyperparameters, given additional time and/or computational power."
   ]
  }
 ],
 "metadata": {
  "kernelspec": {
   "display_name": "Python 3",
   "language": "python",
   "name": "python3"
  },
  "language_info": {
   "codemirror_mode": {
    "name": "ipython",
    "version": 3
   },
   "file_extension": ".py",
   "mimetype": "text/x-python",
   "name": "python",
   "nbconvert_exporter": "python",
   "pygments_lexer": "ipython3",
   "version": "3.6.5"
  }
 },
 "nbformat": 4,
 "nbformat_minor": 1
}
